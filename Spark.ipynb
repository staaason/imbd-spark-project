{
  "cells": [
    {
      "cell_type": "markdown",
      "metadata": {
        "id": "view-in-github",
        "colab_type": "text"
      },
      "source": [
        "<a href=\"https://colab.research.google.com/github/staaason/imbd-spark-project/blob/main/Spark.ipynb\" target=\"_parent\"><img src=\"https://colab.research.google.com/assets/colab-badge.svg\" alt=\"Open In Colab\"/></a>"
      ]
    },
    {
      "cell_type": "code",
      "execution_count": 1,
      "metadata": {
        "colab": {
          "base_uri": "https://localhost:8080/"
        },
        "id": "b6Op3WA9058w",
        "outputId": "089b4b47-6003-4795-c864-e4a1273174f5"
      },
      "outputs": [
        {
          "output_type": "stream",
          "name": "stdout",
          "text": [
            "Looking in indexes: https://pypi.org/simple, https://us-python.pkg.dev/colab-wheels/public/simple/\n",
            "Collecting pyspark\n",
            "  Downloading pyspark-3.3.1.tar.gz (281.4 MB)\n",
            "\u001b[K     |████████████████████████████████| 281.4 MB 54 kB/s \n",
            "\u001b[?25hCollecting py4j==0.10.9.5\n",
            "  Downloading py4j-0.10.9.5-py2.py3-none-any.whl (199 kB)\n",
            "\u001b[K     |████████████████████████████████| 199 kB 70.9 MB/s \n",
            "\u001b[?25hBuilding wheels for collected packages: pyspark\n",
            "  Building wheel for pyspark (setup.py) ... \u001b[?25l\u001b[?25hdone\n",
            "  Created wheel for pyspark: filename=pyspark-3.3.1-py2.py3-none-any.whl size=281845512 sha256=fd4644a51f8bd7a3feaca3f457515665a82e633c3e88a3b2f44425fb31acf378\n",
            "  Stored in directory: /root/.cache/pip/wheels/43/dc/11/ec201cd671da62fa9c5cc77078235e40722170ceba231d7598\n",
            "Successfully built pyspark\n",
            "Installing collected packages: py4j, pyspark\n",
            "Successfully installed py4j-0.10.9.5 pyspark-3.3.1\n"
          ]
        }
      ],
      "source": [
        "!pip install pyspark"
      ]
    },
    {
      "cell_type": "code",
      "execution_count": 2,
      "metadata": {
        "colab": {
          "base_uri": "https://localhost:8080/"
        },
        "id": "mVzuJSXR276r",
        "outputId": "bf9a325b-1424-4435-b970-f7ea6e474875"
      },
      "outputs": [
        {
          "output_type": "stream",
          "name": "stdout",
          "text": [
            "Mounted at /content/drive\n"
          ]
        }
      ],
      "source": [
        "from pyspark import SparkConf\n",
        "from pyspark.sql import  SparkSession, Window\n",
        "import pyspark.sql.types as t\n",
        "import pyspark.sql.functions as f\n",
        "from pyspark.sql.functions import explode, sequence, to_date\n",
        "from google.colab import drive\n",
        "drive.mount('/content/drive', force_remount=True)"
      ]
    },
    {
      "cell_type": "code",
      "execution_count": 3,
      "metadata": {
        "id": "KxvmSZGc4CE-"
      },
      "outputs": [],
      "source": [
        "spark = SparkSession.builder.getOrCreate()"
      ]
    },
    {
      "cell_type": "code",
      "execution_count": 4,
      "metadata": {
        "colab": {
          "base_uri": "https://localhost:8080/"
        },
        "id": "RmNdEIz0HXpG",
        "outputId": "2883c8b4-fbc4-46a2-83a9-68d86926bfd2"
      },
      "outputs": [
        {
          "output_type": "stream",
          "name": "stdout",
          "text": [
            "+---------+--------+-------------------------+------+--------+-----------+---------------------+---------------+\n",
            "|titleId  |ordering|title                    |region|language|types      |attributes           |isOriginalTitle|\n",
            "+---------+--------+-------------------------+------+--------+-----------+---------------------+---------------+\n",
            "|tt0000001|1       |Карменсіта               |UA    |null    |imdbDisplay|null                 |0              |\n",
            "|tt0000001|2       |Carmencita               |DE    |null    |null       |literal title        |0              |\n",
            "|tt0000001|3       |Carmencita - spanyol tánc|HU    |null    |imdbDisplay|null                 |0              |\n",
            "|tt0000001|4       |Καρμενσίτα               |GR    |null    |imdbDisplay|null                 |0              |\n",
            "|tt0000001|5       |Карменсита               |RU    |null    |imdbDisplay|null                 |0              |\n",
            "|tt0000001|6       |Carmencita               |US    |null    |imdbDisplay|null                 |0              |\n",
            "|tt0000001|7       |Carmencita               |null  |null    |original   |null                 |1              |\n",
            "|tt0000001|8       |カルメンチータ           |JP    |ja      |imdbDisplay|null                 |0              |\n",
            "|tt0000002|1       |Le clown et ses chiens   |null  |null    |original   |null                 |1              |\n",
            "|tt0000002|2       |Le clown et ses chiens   |FR    |null    |imdbDisplay|null                 |0              |\n",
            "|tt0000002|3       |A bohóc és kutyái        |HU    |null    |imdbDisplay|null                 |0              |\n",
            "|tt0000002|4       |Der Clown und seine Hunde|DE    |null    |null       |literal title        |0              |\n",
            "|tt0000002|5       |Clovnul si cainii sai    |RO    |null    |imdbDisplay|null                 |0              |\n",
            "|tt0000002|6       |Клоун и его собаки       |RU    |null    |imdbDisplay|null                 |0              |\n",
            "|tt0000002|7       |The Clown and His Dogs   |US    |null    |null       |literal English title|0              |\n",
            "|tt0000002|8       |道化師と犬               |JP    |ja      |imdbDisplay|null                 |0              |\n",
            "|tt0000003|1       |Sarmanul Pierrot         |RO    |null    |imdbDisplay|null                 |0              |\n",
            "|tt0000003|2       |Szegény Pierrot          |HU    |null    |imdbDisplay|null                 |0              |\n",
            "|tt0000003|3       |哀れなピエロ             |JP    |ja      |imdbDisplay|null                 |0              |\n",
            "|tt0000003|4       |Бідний П'єро             |UA    |null    |imdbDisplay|null                 |0              |\n",
            "+---------+--------+-------------------------+------+--------+-----------+---------------------+---------------+\n",
            "only showing top 20 rows\n",
            "\n"
          ]
        }
      ],
      "source": [
        "title_akas_schema = t.StructType([t.StructField('titleId', t.StringType(), True),\n",
        "                                  t.StructField('ordering', t.IntegerType(), True),\n",
        "                                  t.StructField('title', t.StringType(), True),\n",
        "                                  t.StructField('region', t.StringType(), True),\n",
        "                                  t.StructField('language', t.StringType(), True),\n",
        "                                  t.StructField('types', t.StringType(), True),\n",
        "                                  t.StructField('attributes',  t.StringType(), True),\n",
        "                                  t.StructField('isOriginalTitle', t.StringType(), True)])\n",
        "\n",
        "title_akas_df = spark.read.csv(\"/content/drive/MyDrive/Colab Notebooks/data/title.akas.tsv.gz\", sep=r'\\t', header=True, nullValue='\\\\N', schema=title_akas_schema)\n",
        "title_akas_df.show(truncate=False)"
      ]
    },
    {
      "cell_type": "code",
      "execution_count": 5,
      "metadata": {
        "colab": {
          "base_uri": "https://localhost:8080/"
        },
        "id": "oT_A2ALpUJW_",
        "outputId": "58ac1ed2-1333-46ad-cf73-cb19e726ae2b"
      },
      "outputs": [
        {
          "output_type": "stream",
          "name": "stdout",
          "text": [
            "+---------+---------+--------------------+--------------------+-------+----------+-------+--------------+--------------------+\n",
            "|   tconst|titleType|        primaryTitle|       originalTitle|isAdult| startYear|endYear|runtimeMinutes|              genres|\n",
            "+---------+---------+--------------------+--------------------+-------+----------+-------+--------------+--------------------+\n",
            "|tt0000001|    short|          Carmencita|          Carmencita|      0|1894-01-01|   null|             1|   Documentary,Short|\n",
            "|tt0000002|    short|Le clown et ses c...|Le clown et ses c...|      0|1892-01-01|   null|             5|     Animation,Short|\n",
            "|tt0000003|    short|      Pauvre Pierrot|      Pauvre Pierrot|      0|1892-01-01|   null|             4|Animation,Comedy,...|\n",
            "|tt0000004|    short|         Un bon bock|         Un bon bock|      0|1892-01-01|   null|            12|     Animation,Short|\n",
            "|tt0000005|    short|    Blacksmith Scene|    Blacksmith Scene|      0|1893-01-01|   null|             1|        Comedy,Short|\n",
            "|tt0000006|    short|   Chinese Opium Den|   Chinese Opium Den|      0|1894-01-01|   null|             1|               Short|\n",
            "|tt0000007|    short|Corbett and Court...|Corbett and Court...|      0|1894-01-01|   null|             1|         Short,Sport|\n",
            "|tt0000008|    short|Edison Kinetoscop...|Edison Kinetoscop...|      0|1894-01-01|   null|             1|   Documentary,Short|\n",
            "|tt0000009|    movie|          Miss Jerry|          Miss Jerry|      0|1894-01-01|   null|            45|             Romance|\n",
            "|tt0000010|    short| Leaving the Factory|La sortie de l'us...|      0|1895-01-01|   null|             1|   Documentary,Short|\n",
            "|tt0000011|    short|Akrobatisches Pot...|Akrobatisches Pot...|      0|1895-01-01|   null|             1|   Documentary,Short|\n",
            "|tt0000012|    short|The Arrival of a ...|L'arrivée d'un tr...|      0|1896-01-01|   null|             1|   Documentary,Short|\n",
            "|tt0000013|    short|The Photographica...|Le débarquement d...|      0|1895-01-01|   null|             1|   Documentary,Short|\n",
            "|tt0000014|    short| The Waterer Watered|   L'arroseur arrosé|      0|1895-01-01|   null|             1|        Comedy,Short|\n",
            "|tt0000015|    short| Autour d'une cabine| Autour d'une cabine|      0|1894-01-01|   null|             2|     Animation,Short|\n",
            "|tt0000016|    short|Boat Leaving the ...|Barque sortant du...|      0|1895-01-01|   null|             1|   Documentary,Short|\n",
            "|tt0000017|    short|Italienischer Bau...|Italienischer Bau...|      0|1895-01-01|   null|             1|   Documentary,Short|\n",
            "|tt0000018|    short|Das boxende Känguruh|Das boxende Känguruh|      0|1895-01-01|   null|             1|               Short|\n",
            "|tt0000019|    short|    The Clown Barber|    The Clown Barber|      0|1898-01-01|   null|          null|        Comedy,Short|\n",
            "|tt0000020|    short|      The Derby 1895|      The Derby 1895|      0|1895-01-01|   null|             1|Documentary,Short...|\n",
            "+---------+---------+--------------------+--------------------+-------+----------+-------+--------------+--------------------+\n",
            "only showing top 20 rows\n",
            "\n"
          ]
        }
      ],
      "source": [
        "title_basics_schema =  t.StructType([t.StructField('tconst', t.StringType(), True),\n",
        "                                  t.StructField('titleType', t.StringType(), True),\n",
        "                                  t.StructField('primaryTitle', t.StringType(), True),\n",
        "                                  t.StructField('originalTitle', t.StringType(), True),\n",
        "                                  t.StructField('isAdult', t.IntegerType(), True),\n",
        "                                  t.StructField('startYear', t.DateType(), True),\n",
        "                                  t.StructField('endYear',  t.DateType(), True),\n",
        "                                  t.StructField('runtimeMinutes', t.IntegerType(), True),\n",
        "                                  t.StructField('genres', t.StringType(), True)])\n",
        "\n",
        "title_basics_df = spark.read.csv(\"/content/drive/MyDrive/Colab Notebooks/data/title.basics.tsv.gz\", sep=r'\\t', header=True, nullValue='\\\\N', dateFormat=\"MM/dd/yyyy\", schema=title_basics_schema)\n",
        "title_basics_df.show()"
      ]
    },
    {
      "cell_type": "code",
      "execution_count": 6,
      "metadata": {
        "colab": {
          "base_uri": "https://localhost:8080/"
        },
        "id": "lt6JIop8akF0",
        "outputId": "2868ea5c-507a-462f-8185-1ce08f69b18a"
      },
      "outputs": [
        {
          "output_type": "stream",
          "name": "stdout",
          "text": [
            "+---------+-------------------+----------+----------+--------------------+--------------------+\n",
            "|   nconst|        primaryName| birthYear| deathYear|   primaryProfession|      knownForTitles|\n",
            "+---------+-------------------+----------+----------+--------------------+--------------------+\n",
            "|nm0000001|       Fred Astaire|1899-01-01|1987-01-01|soundtrack,actor,...|tt0072308,tt00504...|\n",
            "|nm0000002|      Lauren Bacall|1924-01-01|2014-01-01|  actress,soundtrack|tt0037382,tt00383...|\n",
            "|nm0000003|    Brigitte Bardot|1934-01-01|      null|actress,soundtrac...|tt0054452,tt00491...|\n",
            "|nm0000004|       John Belushi|1949-01-01|1982-01-01|actor,soundtrack,...|tt0072562,tt00787...|\n",
            "|nm0000005|     Ingmar Bergman|1918-01-01|2007-01-01|writer,director,a...|tt0050986,tt00509...|\n",
            "|nm0000006|     Ingrid Bergman|1915-01-01|1982-01-01|actress,soundtrac...|tt0038109,tt00387...|\n",
            "|nm0000007|    Humphrey Bogart|1899-01-01|1957-01-01|actor,soundtrack,...|tt0034583,tt00432...|\n",
            "|nm0000008|      Marlon Brando|1924-01-01|2004-01-01|actor,soundtrack,...|tt0047296,tt00686...|\n",
            "|nm0000009|     Richard Burton|1925-01-01|1984-01-01|actor,soundtrack,...|tt0057877,tt00878...|\n",
            "|nm0000010|       James Cagney|1899-01-01|1986-01-01|actor,soundtrack,...|tt0031867,tt00355...|\n",
            "|nm0000011|        Gary Cooper|1901-01-01|1961-01-01|actor,soundtrack,...|tt0044706,tt00279...|\n",
            "|nm0000012|        Bette Davis|1908-01-01|1989-01-01|actress,soundtrac...|tt0042192,tt00351...|\n",
            "|nm0000013|          Doris Day|1922-01-01|2019-01-01|soundtrack,actres...|tt0053172,tt00455...|\n",
            "|nm0000014|Olivia de Havilland|1916-01-01|2020-01-01|  actress,soundtrack|tt0040806,tt00414...|\n",
            "|nm0000015|         James Dean|1931-01-01|1955-01-01| actor,miscellaneous|tt0049261,tt00480...|\n",
            "|nm0000016|    Georges Delerue|1925-01-01|1992-01-01|composer,soundtra...|tt0096320,tt00917...|\n",
            "|nm0000017|   Marlene Dietrich|1901-01-01|1992-01-01|soundtrack,actres...|tt0021156,tt00512...|\n",
            "|nm0000018|       Kirk Douglas|1916-01-01|2020-01-01|actor,producer,so...|tt0043338,tt00543...|\n",
            "|nm0000019|   Federico Fellini|1920-01-01|1993-01-01|writer,director,a...|tt0056801,tt00711...|\n",
            "|nm0000020|        Henry Fonda|1905-01-01|1982-01-01|actor,producer,so...|tt0082846,tt00500...|\n",
            "+---------+-------------------+----------+----------+--------------------+--------------------+\n",
            "only showing top 20 rows\n",
            "\n"
          ]
        }
      ],
      "source": [
        "name_basics_schema =  t.StructType([t.StructField('nconst', t.StringType(), True),\n",
        "                                  t.StructField('primaryName', t.StringType(), True),\n",
        "                                  t.StructField('birthYear', t.DateType(), True),\n",
        "                                  t.StructField('deathYear', t.DateType(), True),\n",
        "                                  t.StructField('primaryProfession', t.StringType(), True),\n",
        "                                  t.StructField('knownForTitles',  t.StringType(), True)])\n",
        "\n",
        "\n",
        "name_basics_df = spark.read.csv(\"/content/drive/MyDrive/Colab Notebooks/data/name.basics.tsv.gz\", sep=r'\\t', header=True, nullValue='\\\\N', dateFormat=\"MM/dd/yyyy\", schema=name_basics_schema)\n",
        "name_basics_df.show()"
      ]
    },
    {
      "cell_type": "code",
      "execution_count": 7,
      "metadata": {
        "colab": {
          "base_uri": "https://localhost:8080/"
        },
        "id": "aRVxPb4Acf1a",
        "outputId": "b33e0564-f368-42fc-b8d8-4e2d827174e3"
      },
      "outputs": [
        {
          "output_type": "stream",
          "name": "stdout",
          "text": [
            "+---------+-------------------+---------+\n",
            "|   tconst|          directors| writers |\n",
            "+---------+-------------------+---------+\n",
            "|tt0000001|          nm0005690|     null|\n",
            "|tt0000002|          nm0721526|     null|\n",
            "|tt0000003|          nm0721526|     null|\n",
            "|tt0000004|          nm0721526|     null|\n",
            "|tt0000005|          nm0005690|     null|\n",
            "|tt0000006|          nm0005690|     null|\n",
            "|tt0000007|nm0005690,nm0374658|     null|\n",
            "|tt0000008|          nm0005690|     null|\n",
            "|tt0000009|          nm0085156|nm0085156|\n",
            "|tt0000010|          nm0525910|     null|\n",
            "|tt0000011|          nm0804434|     null|\n",
            "|tt0000012|nm0525908,nm0525910|     null|\n",
            "|tt0000013|          nm0525910|     null|\n",
            "|tt0000014|          nm0525910|     null|\n",
            "|tt0000015|          nm0721526|     null|\n",
            "|tt0000016|          nm0525910|     null|\n",
            "|tt0000017|nm1587194,nm0804434|     null|\n",
            "|tt0000018|          nm0804434|     null|\n",
            "|tt0000019|          nm0932055|     null|\n",
            "|tt0000020|          nm0010291|     null|\n",
            "+---------+-------------------+---------+\n",
            "only showing top 20 rows\n",
            "\n"
          ]
        }
      ],
      "source": [
        "title_crew_schema =  t.StructType([t.StructField('tconst', t.StringType(), True),\n",
        "                                  t.StructField('directors', t.StringType(), True),\n",
        "                                  t.StructField('writers ', t.StringType(), True)])\n",
        "\n",
        "title_crew_df = spark.read.csv(\"/content/drive/MyDrive/Colab Notebooks/data/title.crew.tsv.gz\", sep=r'\\t', header=True, nullValue='\\\\N', schema=title_crew_schema)\n",
        "title_crew_df.show()"
      ]
    },
    {
      "cell_type": "code",
      "execution_count": 8,
      "metadata": {
        "colab": {
          "base_uri": "https://localhost:8080/"
        },
        "id": "wH_03x5Od0iR",
        "outputId": "874fc8e0-d55a-47b5-ed26-d3493e61de35"
      },
      "outputs": [
        {
          "output_type": "stream",
          "name": "stdout",
          "text": [
            "+---------+------------+------------+-------------+\n",
            "|   tconst|parentTconst|seasonNumber|episodeNumber|\n",
            "+---------+------------+------------+-------------+\n",
            "|tt0041951|   tt0041038|           1|            9|\n",
            "|tt0042816|   tt0989125|           1|           17|\n",
            "|tt0042889|   tt0989125|        null|         null|\n",
            "|tt0043426|   tt0040051|           3|           42|\n",
            "|tt0043631|   tt0989125|           2|           16|\n",
            "|tt0043693|   tt0989125|           2|            8|\n",
            "|tt0043710|   tt0989125|           3|            3|\n",
            "|tt0044093|   tt0959862|           1|            6|\n",
            "|tt0044668|   tt0044243|           2|           16|\n",
            "|tt0044901|   tt0989125|           3|           46|\n",
            "|tt0045519|   tt0989125|           4|           11|\n",
            "|tt0045960|   tt0044284|           2|            3|\n",
            "|tt0046135|   tt0989125|           4|            5|\n",
            "|tt0046150|   tt0341798|        null|         null|\n",
            "|tt0046855|   tt0046643|           1|            4|\n",
            "|tt0046864|   tt0989125|           5|           20|\n",
            "|tt0047810|   tt0914702|           3|           36|\n",
            "|tt0047852|   tt0047745|           1|           15|\n",
            "|tt0047858|   tt0046637|           2|            9|\n",
            "|tt0047961|   tt0989125|           6|            5|\n",
            "+---------+------------+------------+-------------+\n",
            "only showing top 20 rows\n",
            "\n"
          ]
        }
      ],
      "source": [
        "title_episode_schema =  t.StructType([t.StructField('tconst', t.StringType(), True),\n",
        "                                  t.StructField('parentTconst', t.StringType(), True),\n",
        "                                  t.StructField('seasonNumber', t.IntegerType(), True),\n",
        "                                  t.StructField('episodeNumber', t.IntegerType(), True)])\n",
        "\n",
        "title_episode_df = spark.read.csv(\"/content/drive/MyDrive/Colab Notebooks/data/title.episode.tsv.gz\", sep=r'\\t', header=True, nullValue='\\\\N', schema=title_episode_schema)\n",
        "title_episode_df.show()"
      ]
    },
    {
      "cell_type": "code",
      "execution_count": 9,
      "metadata": {
        "colab": {
          "base_uri": "https://localhost:8080/"
        },
        "id": "ZlmefmPbeZCR",
        "outputId": "2c4c666b-5a9d-4b6d-a826-c150c968e1f1"
      },
      "outputs": [
        {
          "output_type": "stream",
          "name": "stdout",
          "text": [
            "+---------+--------+---------+---------------+--------------------+--------------+\n",
            "|   tconst|ordering|   nconst|       category|                 job|    characters|\n",
            "+---------+--------+---------+---------------+--------------------+--------------+\n",
            "|tt0000001|       1|nm1588970|           self|                null|      [\"Self\"]|\n",
            "|tt0000001|       2|nm0005690|       director|                null|          null|\n",
            "|tt0000001|       3|nm0374658|cinematographer|director of photo...|          null|\n",
            "|tt0000002|       1|nm0721526|       director|                null|          null|\n",
            "|tt0000002|       2|nm1335271|       composer|                null|          null|\n",
            "|tt0000003|       1|nm0721526|       director|                null|          null|\n",
            "|tt0000003|       2|nm1770680|       producer|            producer|          null|\n",
            "|tt0000003|       3|nm1335271|       composer|                null|          null|\n",
            "|tt0000003|       4|nm5442200|         editor|                null|          null|\n",
            "|tt0000004|       1|nm0721526|       director|                null|          null|\n",
            "|tt0000004|       2|nm1335271|       composer|                null|          null|\n",
            "|tt0000005|       1|nm0443482|          actor|                null|[\"Blacksmith\"]|\n",
            "|tt0000005|       2|nm0653042|          actor|                null| [\"Assistant\"]|\n",
            "|tt0000005|       3|nm0005690|       director|                null|          null|\n",
            "|tt0000005|       4|nm0249379|       producer|            producer|          null|\n",
            "|tt0000006|       1|nm0005690|       director|                null|          null|\n",
            "|tt0000007|       1|nm0179163|          actor|                null|          null|\n",
            "|tt0000007|       2|nm0183947|          actor|                null|          null|\n",
            "|tt0000007|       3|nm0005690|       director|                null|          null|\n",
            "|tt0000007|       4|nm0374658|       director|                null|          null|\n",
            "+---------+--------+---------+---------------+--------------------+--------------+\n",
            "only showing top 20 rows\n",
            "\n"
          ]
        }
      ],
      "source": [
        "title_principals_schema =  t.StructType([t.StructField('tconst', t.StringType(), True),\n",
        "                                  t.StructField('ordering', t.IntegerType(), True),\n",
        "                                  t.StructField('nconst', t.StringType(), True),\n",
        "                                  t.StructField('category', t.StringType(), True),\n",
        "                                  t.StructField('job', t.StringType(), True),\n",
        "                                  t.StructField('characters', t.StringType(), True)])\n",
        "\n",
        "title_principals_df = spark.read.csv(\"/content/drive/MyDrive/Colab Notebooks/data/title.principals.tsv.gz\", sep=r'\\t', header=True, nullValue='\\\\N', schema=title_principals_schema)\n",
        "title_principals_df.show()"
      ]
    },
    {
      "cell_type": "code",
      "execution_count": 10,
      "metadata": {
        "colab": {
          "base_uri": "https://localhost:8080/"
        },
        "id": "hQpQ5WKWfF0N",
        "outputId": "cca38623-b5c6-48a7-d394-407a5aa1b644"
      },
      "outputs": [
        {
          "output_type": "stream",
          "name": "stdout",
          "text": [
            "+---------+-------------+--------+\n",
            "|   tconst|averageRating|numVotes|\n",
            "+---------+-------------+--------+\n",
            "|tt0000001|          5.7|    1925|\n",
            "|tt0000002|          5.8|     261|\n",
            "|tt0000003|          6.5|    1741|\n",
            "|tt0000004|          5.6|     176|\n",
            "|tt0000005|          6.2|    2554|\n",
            "|tt0000006|          5.1|     175|\n",
            "|tt0000007|          5.4|     797|\n",
            "|tt0000008|          5.4|    2069|\n",
            "|tt0000009|          5.3|     200|\n",
            "|tt0000010|          6.9|    6992|\n",
            "|tt0000011|          5.3|     357|\n",
            "|tt0000012|          7.4|   12000|\n",
            "|tt0000013|          5.7|    1850|\n",
            "|tt0000014|          7.1|    5381|\n",
            "|tt0000015|          6.2|    1035|\n",
            "|tt0000016|          5.9|    1460|\n",
            "|tt0000017|          4.6|     318|\n",
            "|tt0000018|          5.3|     583|\n",
            "|tt0000019|          5.1|      31|\n",
            "|tt0000020|          4.8|     351|\n",
            "+---------+-------------+--------+\n",
            "only showing top 20 rows\n",
            "\n"
          ]
        }
      ],
      "source": [
        "title_ratings_schema =  t.StructType([t.StructField('tconst', t.StringType(), True),\n",
        "                                  t.StructField('averageRating', t.FloatType(), True),\n",
        "                                  t.StructField('numVotes', t.IntegerType(), True)])\n",
        "\n",
        "title_ratings_df = spark.read.csv(\"/content/drive/MyDrive/Colab Notebooks/data/title.ratings.tsv.gz\", sep=r'\\t', header=True, nullValue='\\\\N', schema=title_ratings_schema)\n",
        "title_ratings_df.show()"
      ]
    },
    {
      "cell_type": "code",
      "execution_count": null,
      "metadata": {
        "colab": {
          "base_uri": "https://localhost:8080/"
        },
        "id": "UtIDoScJfgT6",
        "outputId": "380092f0-262e-492f-c687-423f8a2b165b"
      },
      "outputs": [
        {
          "name": "stdout",
          "output_type": "stream",
          "text": [
            "+--------------------+\n",
            "|               title|\n",
            "+--------------------+\n",
            "|          Карменсіта|\n",
            "|        Бідний П'єро|\n",
            "|    Ковальська сцена|\n",
            "|   Чхання Фреда Отта|\n",
            "|Вихід робітників ...|\n",
            "|Прибуття потяга н...|\n",
            "|Прибуття делегаті...|\n",
            "| Политий поливальник|\n",
            "|     Навколо кабінки|\n",
            "|              Ковалі|\n",
            "|     Морське купання|\n",
            "|      Партія в карти|\n",
            "|Площа Кордельє в ...|\n",
            "|Виловлювання черв...|\n",
            "|  Сніданок немовляти|\n",
            "|Стрибок через бре...|\n",
            "|       Вольтижування|\n",
            "|        Гра в сніжки|\n",
            "|    Зруйнування муру|\n",
            "|       Замок диявола|\n",
            "+--------------------+\n",
            "only showing top 20 rows\n",
            "\n"
          ]
        }
      ],
      "source": [
        "def showAvailableInUA():\n",
        "  titles_in_ua_df = title_akas_df.select(f.column('title')).where(f.col('region') == 'UA')\n",
        "  titles_in_ua_df.show()\n",
        "  path_to_save = '/content/drive/MyDrive/Colab Notebooks/output/titles_available_in_ukraine'\n",
        "  titles_in_ua_df.write.options(header='True', delimiter=',').mode(\"overwrite\").csv(path_to_save)\n",
        "showAvailableInUA()\n",
        "  "
      ]
    },
    {
      "cell_type": "code",
      "execution_count": 13,
      "metadata": {
        "id": "ZzIGGVpsXJ4E",
        "colab": {
          "base_uri": "https://localhost:8080/"
        },
        "outputId": "a222c1c2-786b-42b9-f5a5-074f45153138"
      },
      "outputs": [
        {
          "output_type": "stream",
          "name": "stdout",
          "text": [
            "+------------------+\n",
            "|      name_surname|\n",
            "+------------------+\n",
            "|      Fred Astaire|\n",
            "|   Humphrey Bogart|\n",
            "|      James Cagney|\n",
            "|  Alfred Hitchcock|\n",
            "|     Buster Keaton|\n",
            "|      Groucho Marx|\n",
            "|Edward G. Robinson|\n",
            "|    Randolph Scott|\n",
            "|       Max Steiner|\n",
            "|   Charles Chaplin|\n",
            "|      Robert Ellis|\n",
            "|      Robert Ellis|\n",
            "|       Annie Rosar|\n",
            "|         John Ford|\n",
            "|     D.W. Griffith|\n",
            "|     Boris Karloff|\n",
            "|        Fritz Lang|\n",
            "|       Bela Lugosi|\n",
            "|   Edgar Allan Poe|\n",
            "|   Judith Anderson|\n",
            "+------------------+\n",
            "only showing top 20 rows\n",
            "\n"
          ]
        }
      ],
      "source": [
        "def getPeopleBornIn19Century():\n",
        "  people_born_df = name_basics_df.select(f.column('primaryName').alias('name_surname')).where(f.year(name_basics_df.birthYear) >= 1800).where(f.year(name_basics_df.birthYear) < 1900)\n",
        "  people_born_df.show()\n",
        "  path_to_save = '/content/drive/MyDrive/Colab Notebooks/output/people_born_in_19_century'\n",
        "  people_born_df.write.options(header='True', delimiter=',').mode(\"overwrite\").csv(path_to_save)\n",
        "\n",
        "getPeopleBornIn19Century()"
      ]
    },
    {
      "cell_type": "code",
      "execution_count": null,
      "metadata": {
        "colab": {
          "base_uri": "https://localhost:8080/"
        },
        "id": "RIKuOyydcHmo",
        "outputId": "bc5b4807-8186-4d9a-8b4c-d68a51002cd6"
      },
      "outputs": [
        {
          "name": "stdout",
          "output_type": "stream",
          "text": [
            "+--------------------+\n",
            "|               title|\n",
            "+--------------------+\n",
            "|What Happened to ...|\n",
            "|The Adventures of...|\n",
            "|            Atlantis|\n",
            "|            Germinal|\n",
            "|Les misérables - ...|\n",
            "|The Active Life o...|\n",
            "|The Beloved Adven...|\n",
            "|             Cabiria|\n",
            "|   L'enfant de Paris|\n",
            "|The Exploits of E...|\n",
            "|The Hazards of Helen|\n",
            "|Lucille Love: The...|\n",
            "|      The Master Key|\n",
            "|The Perils of Pau...|\n",
            "|The Port of Missi...|\n",
            "|El signo de la tribu|\n",
            "|  The Trey o' Hearts|\n",
            "|The Birth of a Na...|\n",
            "|       The Black Box|\n",
            "|     The Broken Coin|\n",
            "+--------------------+\n",
            "only showing top 20 rows\n",
            "\n"
          ]
        }
      ],
      "source": [
        "def getMoviesLastTwoHours():\n",
        "  movies_df = title_basics_df.select(f.column('originalTitle').alias('title')).where(f.col('runtimeMinutes') > 120).where(f.col('titleType') == 'movie')\n",
        "  movies_df.show()\n",
        "  path_to_save = '/content/drive/MyDrive/Colab Notebooks/output/get_movies_last_two_hours'\n",
        "  movies_df.write.options(header='True', delimiter=',').mode(\"overwrite\").csv(path_to_save)\n",
        "\n",
        "getMoviesLastTwoHours()"
      ]
    },
    {
      "cell_type": "code",
      "execution_count": null,
      "metadata": {
        "colab": {
          "base_uri": "https://localhost:8080/"
        },
        "id": "7XWmI1pveyHd",
        "outputId": "d000ffd9-9fad-4d10-9f28-04cab591a716"
      },
      "outputs": [
        {
          "name": "stdout",
          "output_type": "stream",
          "text": [
            "+--------------------+--------------------+--------------------+\n",
            "|         primaryName|       originalTitle|          characters|\n",
            "+--------------------+--------------------+--------------------+\n",
            "|    Joseph Jefferson|Rip Leaving Sleep...|  [\"Rip Van Winkle\"]|\n",
            "|Josef Sváb-Malost...|Výstavní párkar a...|  [\"Sausage Vendor\"]|\n",
            "|      Ferdinand Gýra|Výstavní párkar a...|         [\"Sticker\"]|\n",
            "|      Georges Méliès|   Évocation spirite|  [\"L'illusioniste\"]|\n",
            "|       Emilia Márkus|             A táncz|          [\"Salome\"]|\n",
            "|Ilona Hegedüsné B...|             A táncz|          [\"Táncos\"]|\n",
            "|        Laura Bayley|  Mary Jane's Mishap|       [\"Mary Jane\"]|\n",
            "|Gilbert M. 'Bronc...|The Messenger Boy...|   [\"Messenger Boy\"]|\n",
            "|Robert Storm Pete...|En foræring til m...|        [\"Petersen\"]|\n",
            "|       Gertie Potter|   That Fatal Sneeze|          [\"Nephew\"]|\n",
            "|     Thurston Harris|   That Fatal Sneeze|           [\"Uncle\"]|\n",
            "|  Anthony O'Sullivan|     A Famous Escape|        [\"Prisoner\"]|\n",
            "|       D.W. Griffith|     A Famous Escape|        [\"Prisoner\"]|\n",
            "|        Harry Solter|     A Famous Escape|    [\"Prison Guard\"]|\n",
            "|  Anthony O'Sullivan|   Lonesome Junction|[\"Heinrich Spitze...|\n",
            "|       Edward Dillon|   Lonesome Junction|          [\"Bandit\"]|\n",
            "|      John T. Dillon|   Lonesome Junction|      [\"Englishman\"]|\n",
            "|       Robert Harron|        Mixed Babies|[\"Boy in Front of...|\n",
            "|       Edward Dillon|        Mixed Babies|          [\"Father\"]|\n",
            "|     George Gebhardt|The Red Man and t...|         [\"Villain\"]|\n",
            "+--------------------+--------------------+--------------------+\n",
            "only showing top 20 rows\n",
            "\n"
          ]
        }
      ],
      "source": [
        "def getNamesTitlesCharacters():\n",
        "  names_df = name_basics_df.join(title_principals_df, ['nconst']).where(name_basics_df.nconst ==  title_principals_df.nconst).join(title_basics_df).where(title_basics_df.tconst == title_principals_df.tconst)\n",
        "  names_df = names_df.where((names_df.category == 'actor') | (names_df.category == 'actress')).where(f.column('characters').isNotNull()).select(f.column('primaryName'), f.column('originalTitle'), f.column('characters'))\n",
        "  names_df.show()\n",
        "  path_to_save = '/content/drive/MyDrive/Colab Notebooks/output/get_names_titles_characters'\n",
        "  names_df.write.options(header='True', delimiter=',').mode(\"overwrite\").csv(path_to_save)\n",
        "\n",
        "getNamesTitlesCharacters()"
      ]
    },
    {
      "cell_type": "code",
      "execution_count": null,
      "metadata": {
        "colab": {
          "base_uri": "https://localhost:8080/"
        },
        "id": "FjkrOE5pq3PU",
        "outputId": "a3b9956b-fcf0-41aa-cd85-71f2871851fe"
      },
      "outputs": [
        {
          "name": "stdout",
          "output_type": "stream",
          "text": [
            "+------+------------+\n",
            "|region|sum(isAdult)|\n",
            "+------+------------+\n",
            "|US    |97092       |\n",
            "|JP    |21498       |\n",
            "|DE    |13351       |\n",
            "|FR    |8169        |\n",
            "|ES    |6403        |\n",
            "|IT    |6047        |\n",
            "|CA    |5506        |\n",
            "|GB    |4836        |\n",
            "|VE    |3686        |\n",
            "|PT    |3571        |\n",
            "|IN    |3246        |\n",
            "|XWW   |2802        |\n",
            "|NL    |2062        |\n",
            "|BR    |1955        |\n",
            "|CZ    |1600        |\n",
            "|SE    |1445        |\n",
            "|XWG   |1213        |\n",
            "|HU    |878         |\n",
            "|GR    |875         |\n",
            "|DK    |821         |\n",
            "|AU    |691         |\n",
            "|FI    |428         |\n",
            "|RU    |404         |\n",
            "|TR    |376         |\n",
            "|CH    |193         |\n",
            "|AR    |177         |\n",
            "|PL    |141         |\n",
            "|MX    |141         |\n",
            "|XEU   |139         |\n",
            "|HK    |125         |\n",
            "|SUHH  |110         |\n",
            "|SK    |107         |\n",
            "|BE    |97          |\n",
            "|AT    |73          |\n",
            "|GI    |72          |\n",
            "|CY    |44          |\n",
            "|KR    |39          |\n",
            "|TW    |37          |\n",
            "|PE    |36          |\n",
            "|CO    |34          |\n",
            "|PH    |30          |\n",
            "|NO    |28          |\n",
            "|CN    |25          |\n",
            "|XAS   |24          |\n",
            "|XYU   |23          |\n",
            "|NZ    |21          |\n",
            "|RS    |21          |\n",
            "|UA    |19          |\n",
            "|SI    |19          |\n",
            "|UY    |17          |\n",
            "|RO    |15          |\n",
            "|ID    |15          |\n",
            "|BG    |11          |\n",
            "|HR    |10          |\n",
            "|CL    |10          |\n",
            "|JM    |9           |\n",
            "|IR    |8           |\n",
            "|DM    |8           |\n",
            "|IL    |8           |\n",
            "|ZA    |8           |\n",
            "|GE    |5           |\n",
            "|IE    |5           |\n",
            "|VN    |5           |\n",
            "|VG    |5           |\n",
            "|PK    |5           |\n",
            "|PR    |5           |\n",
            "|TH    |4           |\n",
            "|LI    |4           |\n",
            "|DZ    |4           |\n",
            "|YUCS  |4           |\n",
            "|BD    |4           |\n",
            "|LU    |4           |\n",
            "|CR    |4           |\n",
            "|DO    |4           |\n",
            "|AL    |4           |\n",
            "|SG    |3           |\n",
            "|MH    |3           |\n",
            "|CG    |3           |\n",
            "|SY    |3           |\n",
            "|LV    |3           |\n",
            "|UZ    |3           |\n",
            "|MY    |3           |\n",
            "|EE    |2           |\n",
            "|PY    |2           |\n",
            "|EG    |2           |\n",
            "|KZ    |2           |\n",
            "|BO    |2           |\n",
            "|EC    |2           |\n",
            "|CU    |2           |\n",
            "|CM    |2           |\n",
            "|TC    |2           |\n",
            "|PS    |1           |\n",
            "|LB    |1           |\n",
            "|AE    |1           |\n",
            "|XKO   |1           |\n",
            "|XSA   |1           |\n",
            "|MT    |1           |\n",
            "|SM    |1           |\n",
            "|AD    |1           |\n",
            "|SV    |1           |\n",
            "+------+------------+\n",
            "only showing top 100 rows\n",
            "\n"
          ]
        }
      ],
      "source": [
        "def getAdultTitlesPerRegion():\n",
        "  titles_df = title_basics_df.join(title_akas_df, title_basics_df.tconst ==  title_akas_df.titleId, 'left').where(title_basics_df.isAdult == 1).groupBy('region').sum('isAdult').na.drop().sort(f.col('sum(isAdult)').desc())\n",
        "  titles_df.show(100, truncate=False)\n",
        "  path_to_save = '/content/drive/MyDrive/Colab Notebooks/output/get_adult_titles_per_region'\n",
        "  titles_df.limit(100).write.options(header='True', delimiter=',').mode(\"overwrite\").csv(path_to_save)\n",
        "\n",
        "getAdultTitlesPerRegion()"
      ]
    },
    {
      "cell_type": "code",
      "execution_count": null,
      "metadata": {
        "colab": {
          "base_uri": "https://localhost:8080/"
        },
        "id": "FfN8DgERHvAM",
        "outputId": "b74893a8-ea48-403a-e7a1-602c0796d38f"
      },
      "outputs": [
        {
          "name": "stdout",
          "output_type": "stream",
          "text": [
            "+--------------------+-----+\n",
            "|        primaryTitle|count|\n",
            "+--------------------+-----+\n",
            "|          Neighbours| 9505|\n",
            "|    Ohayou Tokushima| 9502|\n",
            "|        Love of Life| 7288|\n",
            "|   The Edge of Night| 6588|\n",
            "|          Judge Judy| 6302|\n",
            "|        Charlie Rose| 6183|\n",
            "|     Larry King Live| 6116|\n",
            "|        Barátok közt| 6102|\n",
            "|             Donahue| 5474|\n",
            "|    The Secret Storm| 5173|\n",
            "| Search for Tomorrow| 5067|\n",
            "|          Crossroads| 5032|\n",
            "|The Oprah Winfrey...| 4926|\n",
            "|The Tonight Show ...| 4782|\n",
            "|     Verbotene Liebe| 4664|\n",
            "|         The Doctors| 4657|\n",
            "|The Tonight Show ...| 4641|\n",
            "|       Another World| 4468|\n",
            "|               Maury| 4219|\n",
            "|    One Life to Live| 4209|\n",
            "|   Plus belle la vie| 4162|\n",
            "|The Merv Griffin ...| 4150|\n",
            "|Late Show with Da...| 4065|\n",
            "|         Mr. Dressup| 3998|\n",
            "|           Marienhof| 3983|\n",
            "|     All My Children| 3674|\n",
            "|           Jackanory| 3580|\n",
            "|The Huntley-Brink...| 3529|\n",
            "|         Family Feud| 3467|\n",
            "|            I lampsi| 3457|\n",
            "|The Ellen DeGener...| 3370|\n",
            "|The Jeremy Kyle Show| 3327|\n",
            "|         Ryan's Hope| 3265|\n",
            "|         Hotel Cæsar| 3123|\n",
            "|        Kalimera zoi| 3093|\n",
            "|  The Friendly Giant| 2989|\n",
            "|Savdhaan India: C...| 2946|\n",
            "|            Doraemon| 2943|\n",
            "|           Brookside| 2806|\n",
            "|Late Night with C...| 2769|\n",
            "|         Jenny Jones| 2705|\n",
            "|     Giggle and Hoot| 2649|\n",
            "|          EastEnders| 2614|\n",
            "| Morangos com Açúcar| 2611|\n",
            "|          The Factor| 2594|\n",
            "|The Jerry Springe...| 2572|\n",
            "|            Cheez TV| 2545|\n",
            "|          Ricki Lake| 2518|\n",
            "|            The Bill| 2403|\n",
            "|             Arrayán| 2388|\n",
            "+--------------------+-----+\n",
            "only showing top 50 rows\n",
            "\n"
          ]
        }
      ],
      "source": [
        "title_episode_df = title_episode_df.withColumnRenamed(\"tconst\", \"ttconst\")\n",
        "def getSeriesEpisodes():\n",
        "  series_df = title_basics_df.join(title_episode_df, title_basics_df.tconst == title_episode_df.parentTconst, 'inner').na.drop().groupBy( \\\n",
        "    'primaryTitle').count().sort(f.col('count').desc())\n",
        "  series_df.show(50)\n",
        "  path_to_save = '/content/drive/MyDrive/Colab Notebooks/output/get_count_series_episodes'\n",
        "  series_df.limit(50).write.options(header='True', delimiter=',').mode(\"overwrite\").csv(path_to_save)\n",
        "\n",
        "getSeriesEpisodes()"
      ]
    },
    {
      "cell_type": "code",
      "execution_count": 11,
      "metadata": {
        "colab": {
          "base_uri": "https://localhost:8080/"
        },
        "id": "FA3cmMOnYX3i",
        "outputId": "802a398d-c96d-4b63-9b89-ea3aedbdc533"
      },
      "outputs": [
        {
          "output_type": "stream",
          "name": "stdout",
          "text": [
            "+-----------+----------+--------------------+----------+-------------+\n",
            "|startDecade| endDecade|       originalTitle| startYear|averageRating|\n",
            "+-----------+----------+--------------------+----------+-------------+\n",
            "| 2020-01-01|2029-01-01|Une journée ordin...|2021-01-01|         10.0|\n",
            "| 2020-01-01|2029-01-01|            The Dump|2021-01-01|         10.0|\n",
            "| 2020-01-01|2029-01-01|        Loose Thread|2020-01-01|         10.0|\n",
            "| 2020-01-01|2029-01-01|  Entree Des Artists|2020-01-01|         10.0|\n",
            "| 2020-01-01|2029-01-01|  A Postcard to Nina|2020-01-01|         10.0|\n",
            "| 2020-01-01|2029-01-01|    Greg Steltenpohl|2020-01-01|         10.0|\n",
            "| 2020-01-01|2029-01-01|           Petscop 2|2021-01-01|         10.0|\n",
            "| 2020-01-01|2029-01-01|             Goliath|2020-01-01|         10.0|\n",
            "| 2020-01-01|2029-01-01|    The Good Balloon|2021-01-01|         10.0|\n",
            "| 2020-01-01|2029-01-01|          Casteletes|2020-01-01|         10.0|\n",
            "| 2010-01-01|2019-01-01|  Hammas hamba vastu|2019-01-01|         10.0|\n",
            "| 2010-01-01|2019-01-01|The League of Noo...|2019-01-01|         10.0|\n",
            "| 2010-01-01|2019-01-01|Pie-ramid Pizza w...|2019-01-01|         10.0|\n",
            "| 2010-01-01|2019-01-01|     A Wonderful Day|2019-01-01|         10.0|\n",
            "| 2010-01-01|2019-01-01|Kahetonnine väike...|2019-01-01|         10.0|\n",
            "| 2010-01-01|2019-01-01|  Abir Tricks Mishti|2019-01-01|         10.0|\n",
            "| 2010-01-01|2019-01-01|        Episode #1.2|2016-01-01|         10.0|\n",
            "| 2010-01-01|2019-01-01|The Noobs vs. the...|2019-01-01|         10.0|\n",
            "| 2010-01-01|2019-01-01|Problemas de Leitura|2017-01-01|         10.0|\n",
            "| 2010-01-01|2019-01-01|Obstáculos Orgull...|2019-01-01|         10.0|\n",
            "| 2000-01-01|2009-01-01|        The Outlands|2002-01-01|         10.0|\n",
            "| 2000-01-01|2009-01-01|  Strap-a-Dick-to-Me|2000-01-01|         10.0|\n",
            "| 2000-01-01|2009-01-01|I Love Morecambe ...|2002-01-01|         10.0|\n",
            "| 2000-01-01|2009-01-01|         Fågelmannen|2002-01-01|         10.0|\n",
            "| 2000-01-01|2009-01-01|           First Cry|2001-01-01|         10.0|\n",
            "| 2000-01-01|2009-01-01| Republika Pescenica|2003-01-01|         10.0|\n",
            "| 2000-01-01|2009-01-01|              Heroes|2000-01-01|         10.0|\n",
            "| 2000-01-01|2009-01-01|            Sideshow|2001-01-01|         10.0|\n",
            "| 2000-01-01|2009-01-01|              Heroes|2002-01-01|         10.0|\n",
            "| 2000-01-01|2009-01-01| Saving Sister Aimee|2001-01-01|         10.0|\n",
            "| 1990-01-01|1999-01-01|         Renegades 2|1995-01-01|         10.0|\n",
            "| 1990-01-01|1999-01-01|  Girls Loving Girls|1996-01-01|         10.0|\n",
            "| 1990-01-01|1999-01-01|       All I Know Is|1992-01-01|         10.0|\n",
            "| 1990-01-01|1999-01-01|           The Touch|1997-01-01|         10.0|\n",
            "| 1990-01-01|1999-01-01|Super Video Vixen...|1993-01-01|         10.0|\n",
            "| 1990-01-01|1999-01-01| Pazi, sveze obojeno|1996-01-01|         10.0|\n",
            "| 1990-01-01|1999-01-01|Execu-Comp #169 -...|1991-01-01|         10.0|\n",
            "| 1990-01-01|1999-01-01| Closed for Business|1997-01-01|         10.0|\n",
            "| 1990-01-01|1999-01-01|        Spiral Tribe|1994-01-01|         10.0|\n",
            "| 1990-01-01|1999-01-01|              Desert|1996-01-01|         10.0|\n",
            "| 1980-01-01|1989-01-01|Arturo Benedetti ...|1981-01-01|         10.0|\n",
            "| 1980-01-01|1989-01-01|Gatilleros del Ri...|1985-01-01|         10.0|\n",
            "| 1980-01-01|1989-01-01|Julie Andrews' In...|1980-01-01|         10.0|\n",
            "| 1980-01-01|1989-01-01|   Murder, They Said|1982-01-01|         10.0|\n",
            "| 1980-01-01|1989-01-01|Innocent Bi-Standers|1989-01-01|         10.0|\n",
            "| 1980-01-01|1989-01-01|Cement the Relati...|1987-01-01|         10.0|\n",
            "| 1980-01-01|1989-01-01|Episode dated 10 ...|1983-01-01|         10.0|\n",
            "| 1980-01-01|1989-01-01|            Turandot|1981-01-01|         10.0|\n",
            "| 1980-01-01|1989-01-01|           Dos vidas|1988-01-01|         10.0|\n",
            "| 1980-01-01|1989-01-01|It's All Them Psy...|1980-01-01|         10.0|\n",
            "| 1970-01-01|1979-01-01|Episode dated 6 O...|1970-01-01|         10.0|\n",
            "| 1970-01-01|1979-01-01|        Episode #1.7|1977-01-01|         10.0|\n",
            "| 1970-01-01|1979-01-01|The Unbroken Circ...|1979-01-01|         10.0|\n",
            "| 1970-01-01|1979-01-01|     Episode #10.139|1971-01-01|         10.0|\n",
            "| 1970-01-01|1979-01-01|       Daku Mansingh|1971-01-01|         10.0|\n",
            "| 1970-01-01|1979-01-01|      Episode #2.200|1970-01-01|         10.0|\n",
            "| 1970-01-01|1979-01-01|  Malchik so shpagoy|1976-01-01|         10.0|\n",
            "| 1970-01-01|1979-01-01|      Episode #5.119|1971-01-01|         10.0|\n",
            "| 1970-01-01|1979-01-01|       Episode #1.12|1972-01-01|         10.0|\n",
            "| 1970-01-01|1979-01-01|      Episode #2.157|1970-01-01|         10.0|\n",
            "| 1960-01-01|1969-01-01|Autobiografija ut...|1964-01-01|         10.0|\n",
            "| 1960-01-01|1969-01-01|Pinagbuklod ng la...|1969-01-01|         10.0|\n",
            "| 1960-01-01|1969-01-01|    Der Kaktusgarten|1967-01-01|         10.0|\n",
            "| 1960-01-01|1969-01-01|        Verkündigung|1963-01-01|         10.0|\n",
            "| 1960-01-01|1969-01-01|     Stück für Stück|1962-01-01|         10.0|\n",
            "| 1960-01-01|1969-01-01| Das Gold von Bayern|1967-01-01|         10.0|\n",
            "| 1960-01-01|1969-01-01| Das Ende vom Anfang|1963-01-01|         10.0|\n",
            "| 1960-01-01|1969-01-01|Die Marquise von ...|1961-01-01|         10.0|\n",
            "| 1960-01-01|1969-01-01|      Mein oder Dein|1964-01-01|         10.0|\n",
            "| 1960-01-01|1969-01-01|Crumbles letzte C...|1967-01-01|         10.0|\n",
            "| 1950-01-01|1959-01-01|Four Fabulous Cha...|1957-01-01|         10.0|\n",
            "| 1950-01-01|1959-01-01|     Die gute Sieben|1959-01-01|         10.0|\n",
            "| 1950-01-01|1959-01-01|Paul Winchell and...|1952-01-01|         10.0|\n",
            "| 1950-01-01|1959-01-01|Der öffentliche A...|1958-01-01|         10.0|\n",
            "| 1950-01-01|1959-01-01|          Illusionen|1957-01-01|         10.0|\n",
            "| 1950-01-01|1959-01-01|     Tonight at 8:30|1954-01-01|         10.0|\n",
            "| 1950-01-01|1959-01-01| Till Time Shall End|1958-01-01|         10.0|\n",
            "| 1950-01-01|1959-01-01|   Mrs. Cheneys Ende|1957-01-01|         10.0|\n",
            "| 1950-01-01|1959-01-01|Die 10 war ihr Sc...|1955-01-01|         10.0|\n",
            "| 1950-01-01|1959-01-01|      Der erste Ball|1955-01-01|         10.0|\n",
            "| 1940-01-01|1949-01-01|      Doin' the Town|1941-01-01|          9.7|\n",
            "| 1940-01-01|1949-01-01|Meet the Stars #3...|1941-01-01|          9.7|\n",
            "| 1940-01-01|1949-01-01|    Falstaff in Wien|1940-01-01|          9.2|\n",
            "| 1940-01-01|1949-01-01|           Lucky Pup|1948-01-01|          9.3|\n",
            "| 1940-01-01|1949-01-01|Seinerzeit zu mei...|1944-01-01|          9.7|\n",
            "| 1940-01-01|1949-01-01|The Jack Benny Pr...|1949-01-01|          9.2|\n",
            "| 1940-01-01|1949-01-01|         Kurukshetra|1945-01-01|          9.5|\n",
            "| 1940-01-01|1949-01-01|Life of St. Paul ...|1949-01-01|          9.4|\n",
            "| 1940-01-01|1949-01-01|           Bombalera|1945-01-01|          9.3|\n",
            "| 1940-01-01|1949-01-01| He Was Only Feudin'|1943-01-01|          9.4|\n",
            "| 1930-01-01|1939-01-01|Screen Snapshots ...|1936-01-01|          9.2|\n",
            "| 1930-01-01|1939-01-01|       Nonki Yokocho|1939-01-01|          9.4|\n",
            "| 1930-01-01|1939-01-01|    Mickey the Romeo|1930-01-01|          9.2|\n",
            "| 1930-01-01|1939-01-01|      El organillero|1939-01-01|          9.5|\n",
            "| 1930-01-01|1939-01-01|Screen Snapshots ...|1937-01-01|          9.4|\n",
            "| 1930-01-01|1939-01-01|Screen Snapshots ...|1936-01-01|          9.4|\n",
            "| 1930-01-01|1939-01-01|Screen Snapshots ...|1938-01-01|          9.3|\n",
            "| 1930-01-01|1939-01-01|Screen Snapshots ...|1938-01-01|          9.4|\n",
            "| 1930-01-01|1939-01-01|     Maria, die Magd|1936-01-01|          9.4|\n",
            "| 1930-01-01|1939-01-01|Ein Mädchen mit P...|1934-01-01|          9.3|\n",
            "+-----------+----------+--------------------+----------+-------------+\n",
            "only showing top 100 rows\n",
            "\n"
          ]
        }
      ],
      "source": [
        "def roundUpDecade(year):\n",
        "  return ((int(year) + 9) // 10 * 10) - 1\n",
        "\n",
        "\n",
        "def getTop10perDecade():\n",
        "  titles_df = title_basics_df.join(title_ratings_df, title_ratings_df.tconst == title_basics_df.tconst).where(\\\n",
        "    f.col('averageRating').isNotNull()).agg(f.min(\"startYear\"), f.max(\"startYear\"))\n",
        "  titles_df = titles_df.select(f.date_format(f.col('min(startYear)'),\"yyyy\").alias(\"min(year)\"), \\\n",
        "    f.date_format(f.col('max(startYear)'),\"yyyy\").alias(\"max(year)\"))\n",
        "  dat = titles_df.collect()[0]\n",
        "  min_date = dat.__getitem__('min(year)')\n",
        "  max_date = dat.__getitem__('max(year)')\n",
        "  max_decade = str(roundUpDecade(max_date))\n",
        "  min_decade_start = str(round(int(min_date), -1))\n",
        "  min_decade_end = str(roundUpDecade(min_date))\n",
        "  sql_start_decade_df = spark.sql(f\"select explode(sequence(to_date('{min_decade_start}'), to_date('{max_decade}'), interval 10 year)) as startDecade\")\n",
        "  window_start_decade = Window.orderBy(f.col('startDecade'))\n",
        "  df_start_decade_with_id = sql_start_decade_df.withColumn('id', f.row_number().over(window_start_decade))\n",
        "  sql_end_decade_df =  spark.sql(f\"select explode(sequence(to_date('{min_decade_end}'), to_date('{max_decade}'), interval 10 year)) as endDecade\")\n",
        "  window_end_decade = Window.orderBy(f.col('endDecade'))\n",
        "  df_end_decade_with_id = sql_end_decade_df.withColumn('id', f.row_number().over(window_end_decade))\n",
        "  sql_decade_df = df_start_decade_with_id.join(df_end_decade_with_id, df_end_decade_with_id.id == df_start_decade_with_id.id).drop(df_start_decade_with_id.id)\n",
        "  decade_title_df = title_basics_df.join(sql_decade_df, title_basics_df.startYear >= sql_decade_df.startDecade).where(\\\n",
        "    title_basics_df.startYear <= sql_decade_df.endDecade).join(title_ratings_df, title_ratings_df.tconst == title_basics_df.tconst \\\n",
        "    ).where(f.col('averageRating').isNotNull())\n",
        "  windowstartDecade = Window.partitionBy(\"startDecade\").orderBy(f.col(\"averageRating\").desc())\n",
        "  decade_title_df = decade_title_df.withColumn(\"row\", f.row_number().over(windowstartDecade)).filter( \\\n",
        "    f.col(\"row\") <= 10).drop(\"row\").sort(f.col('startDecade').desc() \\\n",
        "    ).select(['startDecade', 'endDecade', 'originalTitle', 'startYear', 'averageRating'])\n",
        "  decade_title_df.show(100)\n",
        "  path_to_save = '/content/drive/MyDrive/Colab Notebooks/output/get_top_10_per_decade'\n",
        "  decade_title_df.write.options(header='True', delimiter=',').mode(\"overwrite\").csv(path_to_save)\n",
        "\n",
        "getTop10perDecade()\n"
      ]
    },
    {
      "cell_type": "code",
      "source": [
        "def getTop10perGenre():\n",
        "  data_genres_count  = title_basics_df.filter(f.col('genres').isNotNull()).groupBy(\"genres\").count()\n",
        "  data_genres_count_np = data_genres_count.toPandas().to_numpy()\n",
        "  genres_list = []\n",
        "  for k in range(len(data_genres_count_np)):\n",
        "    if data_genres_count_np[k][0] != None:\n",
        "      for i in range(len(data_genres_count_np[k][0].split(','))):\n",
        "        genres_list.append(data_genres_count_np[k][0].split(',')[i])\n",
        "  genres_list = list(set(genres_list))\n",
        "  temp_list = []\n",
        "  for i in genres_list:\n",
        "    temp_list.append((i, 0))\n",
        "  df = spark.createDataFrame(temp_list, ['genre','column']).drop('column')\n",
        "  title_df = title_basics_df.join(df, title_basics_df.genres.contains(df.genre), 'left').join( \\\n",
        "    title_ratings_df, title_ratings_df.tconst == title_basics_df.tconst \\\n",
        "    ).where(f.col('averageRating').isNotNull())\n",
        "  windowTitle = Window.partitionBy(\"genre\").orderBy(f.col(\"averageRating\").desc())\n",
        "  title_df = title_df.withColumn(\"row\", f.row_number().over(windowTitle)).filter( \\\n",
        "    f.col(\"row\") <= 10).drop(\"row\").select(['genre','originalTitle', 'averageRating']).na.drop()\n",
        "  title_df.show(150)\n",
        "  path_to_save = '/content/drive/MyDrive/Colab Notebooks/output/get_top_10_per_genre'\n",
        "  title_df.write.options(header='True', delimiter=',').mode(\"overwrite\").csv(path_to_save)\n",
        "\n",
        "\n",
        "getTop10perGenre()\n",
        "\n",
        "\n"
      ],
      "metadata": {
        "colab": {
          "base_uri": "https://localhost:8080/"
        },
        "id": "ydI6wySAjW1S",
        "outputId": "44b74569-dd89-4244-d4fc-b864212329bc"
      },
      "execution_count": 16,
      "outputs": [
        {
          "output_type": "stream",
          "name": "stdout",
          "text": [
            "+-----------+--------------------+-------------+\n",
            "|      genre|       originalTitle|averageRating|\n",
            "+-----------+--------------------+-------------+\n",
            "|      Adult|         Renegades 2|         10.0|\n",
            "|      Adult|  Girls Loving Girls|         10.0|\n",
            "|      Adult|Innocent Bi-Standers|         10.0|\n",
            "|      Adult|Super Video Vixen...|         10.0|\n",
            "|      Adult|Execu-Comp #169 -...|         10.0|\n",
            "|      Adult|Las putas de New ...|         10.0|\n",
            "|      Adult|Lana & Theresa Ha...|         10.0|\n",
            "|      Adult|So You Wanna Be a...|         10.0|\n",
            "|      Adult|  Strap-a-Dick-to-Me|         10.0|\n",
            "|      Adult|        Goo Girls 16|         10.0|\n",
            "|  Adventure|Orpheus in the Un...|         10.0|\n",
            "|  Adventure|Four Fabulous Cha...|         10.0|\n",
            "|  Adventure|            Birdboys|         10.0|\n",
            "|  Adventure|         Off the Map|         10.0|\n",
            "|  Adventure|   Pilgrim's Vantage|         10.0|\n",
            "|  Adventure|          Tunnellers|         10.0|\n",
            "|  Adventure|             Shadows|         10.0|\n",
            "|  Adventure|Hono no kazan no ...|         10.0|\n",
            "|  Adventure|Arsenic and Old L...|         10.0|\n",
            "|  Adventure|  Ignorance Is Bliss|         10.0|\n",
            "|      Crime|Gatilleros del Ri...|         10.0|\n",
            "|      Crime|       Daku Mansingh|         10.0|\n",
            "|      Crime| Nothing Like a Dame|         10.0|\n",
            "|      Crime|    Community Spirit|         10.0|\n",
            "|      Crime|   Death Becomes Her|         10.0|\n",
            "|      Crime|   Half Man Half Cop|         10.0|\n",
            "|      Crime|Life Liberty and ...|         10.0|\n",
            "|      Crime|      Life and Death|         10.0|\n",
            "|      Crime|   No Direction Home|         10.0|\n",
            "|      Crime|       Northern Soul|         10.0|\n",
            "|Documentary|I Love Morecambe ...|         10.0|\n",
            "|Documentary| Republika Pescenica|         10.0|\n",
            "|Documentary|          Naomi Judd|         10.0|\n",
            "|Documentary|         Sheryl Crow|         10.0|\n",
            "|Documentary|          Chaka Khan|         10.0|\n",
            "|Documentary|     Cloris Leachman|         10.0|\n",
            "|Documentary|Marian Wright Ede...|         10.0|\n",
            "|Documentary| The Last Days of Ki|         10.0|\n",
            "|Documentary|Shamrock and Swas...|         10.0|\n",
            "|Documentary|    Daylight Express|         10.0|\n",
            "|      Drama|     Stück für Stück|         10.0|\n",
            "|      Drama|Pinagbuklod ng la...|         10.0|\n",
            "|      Drama|Gatilleros del Ri...|         10.0|\n",
            "|      Drama|Die Marquise von ...|         10.0|\n",
            "|      Drama|     Tonight at 8:30|         10.0|\n",
            "|      Drama|Crumbles letzte C...|         10.0|\n",
            "|      Drama|Autobiografija ut...|         10.0|\n",
            "|      Drama|              Tongue|         10.0|\n",
            "|      Drama|     Familienpapiere|         10.0|\n",
            "|      Drama|     Die Feuertreppe|         10.0|\n",
            "|     Family|     Tonight at 8:30|         10.0|\n",
            "|     Family|The Party: In Con...|         10.0|\n",
            "|     Family|              Whoosh|         10.0|\n",
            "|     Family|Julie Andrews' In...|         10.0|\n",
            "|     Family|Four Fabulous Cha...|         10.0|\n",
            "|     Family|Sissy's Big Fat M...|         10.0|\n",
            "|     Family|            Skivvies|         10.0|\n",
            "|     Family|            Birdboys|         10.0|\n",
            "|     Family|         Off the Map|         10.0|\n",
            "|     Family|   Pilgrim's Vantage|         10.0|\n",
            "|    Fantasy|Orpheus in the Un...|         10.0|\n",
            "|    Fantasy|            Birdboys|         10.0|\n",
            "|    Fantasy|         Off the Map|         10.0|\n",
            "|    Fantasy|   Pilgrim's Vantage|         10.0|\n",
            "|    Fantasy|          Tunnellers|         10.0|\n",
            "|    Fantasy|Johnston... Johnston|         10.0|\n",
            "|    Fantasy|        Jeu de fille|         10.0|\n",
            "|    Fantasy|         Dark Orchid|         10.0|\n",
            "|    Fantasy|Henosis in Two Parts|         10.0|\n",
            "|    Fantasy|               Ronin|         10.0|\n",
            "|  Game-Show|Second Nudist Tur...|         10.0|\n",
            "|  Game-Show|Third Nudist Phon...|         10.0|\n",
            "|  Game-Show| Third Watch Edition|         10.0|\n",
            "|  Game-Show|Paul Winchell and...|         10.0|\n",
            "|  Game-Show|Spring Break 2008...|         10.0|\n",
            "|  Game-Show|        Episode #1.1|         10.0|\n",
            "|  Game-Show|Beat Saber l Astr...|         10.0|\n",
            "|  Game-Show|        Episode #1.4|         10.0|\n",
            "|  Game-Show|     Samurai's Sword|         10.0|\n",
            "|  Game-Show|Elephant's Toothp...|         10.0|\n",
            "| Reality-TV|Dating on Demand:...|         10.0|\n",
            "| Reality-TV| High Plains Feaster|         10.0|\n",
            "| Reality-TV| Desperate Housewife|         10.0|\n",
            "| Reality-TV|        Little Women|         10.0|\n",
            "| Reality-TV|Reading, Writing ...|         10.0|\n",
            "| Reality-TV|Security He Said/...|         10.0|\n",
            "| Reality-TV|       Station Break|         10.0|\n",
            "| Reality-TV|Auburn, Washingto...|         10.0|\n",
            "| Reality-TV|       Hi my name is|         10.0|\n",
            "| Reality-TV|   First time pumper|         10.0|\n",
            "|    Romance|  Sally in Our Alley|         10.0|\n",
            "|    Romance|Isa lang ang dapa...|         10.0|\n",
            "|    Romance|Dating on Demand:...|         10.0|\n",
            "|    Romance|   Murder, They Said|         10.0|\n",
            "|    Romance|Cement the Relati...|         10.0|\n",
            "|    Romance|Devil on My Shoulder|         10.0|\n",
            "|    Romance|      Found and Lost|         10.0|\n",
            "|    Romance|My Kingdom for a ...|         10.0|\n",
            "|    Romance|     Only Just Begun|         10.0|\n",
            "|    Romance|   Return Engagement|         10.0|\n",
            "|   Thriller|            Sideshow|         10.0|\n",
            "|   Thriller|   Impacto de muerte|         10.0|\n",
            "|   Thriller|   Rutherford County|         10.0|\n",
            "|   Thriller|Obstáculos Orgull...|         10.0|\n",
            "|   Thriller|            Unchaste|         10.0|\n",
            "|   Thriller|       The Terrorist|         10.0|\n",
            "|   Thriller|             Creeper|         10.0|\n",
            "|   Thriller|        Episode #1.1|         10.0|\n",
            "|   Thriller|               Anima|         10.0|\n",
            "|   Thriller|The Anthology of ...|         10.0|\n",
            "|        War|Une journée ordin...|         10.0|\n",
            "|        War|The Women of Geor...|         10.0|\n",
            "|        War|     River of Memory|         10.0|\n",
            "|        War|          A War Hero|         10.0|\n",
            "|        War|   The Ghost Soldier|         10.0|\n",
            "|        War|        Episode #1.1|         10.0|\n",
            "|        War|Die Schlacht bei ...|          9.9|\n",
            "|        War|     Junaci sa Srdja|          9.9|\n",
            "|        War|           Anonymous|          9.9|\n",
            "|        War|        Episode #2.8|          9.9|\n",
            "|     Action|Gatilleros del Ri...|         10.0|\n",
            "|     Action|       Daku Mansingh|         10.0|\n",
            "|     Action|Isa lang ang dapa...|         10.0|\n",
            "|     Action|   Impacto de muerte|         10.0|\n",
            "|     Action|    Por ser Méxicano|         10.0|\n",
            "|     Action|El señor de los c...|         10.0|\n",
            "|     Action|             Shadows|         10.0|\n",
            "|     Action|    Los más buscados|         10.0|\n",
            "|     Action|The Noobs vs. the...|         10.0|\n",
            "|     Action|The League of Noo...|         10.0|\n",
            "|  Animation|             Shadows|         10.0|\n",
            "|  Animation|Hono no kazan no ...|         10.0|\n",
            "|  Animation|Problemas de Leitura|         10.0|\n",
            "|  Animation|The Noobs vs. the...|         10.0|\n",
            "|  Animation|The League of Noo...|         10.0|\n",
            "|  Animation|Pie-ramid Pizza w...|         10.0|\n",
            "|  Animation|  The Birth of Moses|         10.0|\n",
            "|  Animation|    Fit to Be Heroes|         10.0|\n",
            "|  Animation|  A Recipe for Chaos|         10.0|\n",
            "|  Animation|       Fake Stuntman|         10.0|\n",
            "|  Biography|          Naomi Judd|         10.0|\n",
            "|  Biography|         Sheryl Crow|         10.0|\n",
            "|  Biography|          Chaka Khan|         10.0|\n",
            "|  Biography|     Cloris Leachman|         10.0|\n",
            "|  Biography|Marian Wright Ede...|         10.0|\n",
            "|  Biography|Sarah, Duchess of...|         10.0|\n",
            "|  Biography| Girls, Girls, Girls|         10.0|\n",
            "|  Biography|    Vanessa Redgrave|         10.0|\n",
            "|  Biography|            Yasenova|         10.0|\n",
            "|  Biography|Duma about Life (...|         10.0|\n",
            "+-----------+--------------------+-------------+\n",
            "only showing top 150 rows\n",
            "\n"
          ]
        }
      ]
    }
  ],
  "metadata": {
    "colab": {
      "provenance": [],
      "mount_file_id": "127nO3hjHGO4Dl_sBwNZo24wTiVyEosIQ",
      "authorship_tag": "ABX9TyPqm34JQgiwnGCTW1X16fPw",
      "include_colab_link": true
    },
    "kernelspec": {
      "display_name": "Python 3",
      "name": "python3"
    },
    "language_info": {
      "name": "python"
    }
  },
  "nbformat": 4,
  "nbformat_minor": 0
}