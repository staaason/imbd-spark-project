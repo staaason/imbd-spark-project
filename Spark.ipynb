{
  "cells": [
    {
      "cell_type": "markdown",
      "metadata": {
        "id": "view-in-github",
        "colab_type": "text"
      },
      "source": [
        "<a href=\"https://colab.research.google.com/github/staaason/imbd-spark-project/blob/develop/Spark.ipynb\" target=\"_parent\"><img src=\"https://colab.research.google.com/assets/colab-badge.svg\" alt=\"Open In Colab\"/></a>"
      ]
    },
    {
      "cell_type": "code",
      "execution_count": 1,
      "metadata": {
        "colab": {
          "base_uri": "https://localhost:8080/"
        },
        "id": "b6Op3WA9058w",
        "outputId": "74796183-e61b-459d-c177-b3dfec908624"
      },
      "outputs": [
        {
          "output_type": "stream",
          "name": "stdout",
          "text": [
            "Looking in indexes: https://pypi.org/simple, https://us-python.pkg.dev/colab-wheels/public/simple/\n",
            "Collecting pyspark\n",
            "  Downloading pyspark-3.3.1.tar.gz (281.4 MB)\n",
            "\u001b[K     |████████████████████████████████| 281.4 MB 41 kB/s \n",
            "\u001b[?25hCollecting py4j==0.10.9.5\n",
            "  Downloading py4j-0.10.9.5-py2.py3-none-any.whl (199 kB)\n",
            "\u001b[K     |████████████████████████████████| 199 kB 62.4 MB/s \n",
            "\u001b[?25hBuilding wheels for collected packages: pyspark\n",
            "  Building wheel for pyspark (setup.py) ... \u001b[?25l\u001b[?25hdone\n",
            "  Created wheel for pyspark: filename=pyspark-3.3.1-py2.py3-none-any.whl size=281845512 sha256=338a5ad0c1a979827043d6f37465e91b05f9e9f0bde76d7bfa98d75ff77717aa\n",
            "  Stored in directory: /root/.cache/pip/wheels/43/dc/11/ec201cd671da62fa9c5cc77078235e40722170ceba231d7598\n",
            "Successfully built pyspark\n",
            "Installing collected packages: py4j, pyspark\n",
            "Successfully installed py4j-0.10.9.5 pyspark-3.3.1\n"
          ]
        }
      ],
      "source": [
        "!pip install pyspark"
      ]
    },
    {
      "cell_type": "code",
      "execution_count": 2,
      "metadata": {
        "colab": {
          "base_uri": "https://localhost:8080/"
        },
        "id": "mVzuJSXR276r",
        "outputId": "9a671343-ed20-4c77-9466-33c175001437"
      },
      "outputs": [
        {
          "output_type": "stream",
          "name": "stdout",
          "text": [
            "Mounted at /content/drive\n"
          ]
        }
      ],
      "source": [
        "from pyspark import SparkConf\n",
        "from pyspark.sql import  SparkSession, Window\n",
        "import pyspark.sql.types as t\n",
        "import pyspark.sql.functions as f\n",
        "from google.colab import drive\n",
        "drive.mount('/content/drive', force_remount=True)"
      ]
    },
    {
      "cell_type": "code",
      "execution_count": 3,
      "metadata": {
        "id": "KxvmSZGc4CE-"
      },
      "outputs": [],
      "source": [
        "spark = SparkSession.builder.getOrCreate()"
      ]
    },
    {
      "cell_type": "code",
      "execution_count": 4,
      "metadata": {
        "id": "Ld6BuOoY3YS6"
      },
      "outputs": [],
      "source": [
        "df = spark.read.csv(\"/content/drive/MyDrive/Colab Notebooks/data/title.akas.tsv.gz\", sep=r'\\t', header=True, nullValue='null')"
      ]
    },
    {
      "cell_type": "code",
      "execution_count": null,
      "metadata": {
        "colab": {
          "base_uri": "https://localhost:8080/"
        },
        "id": "KmKDWuS6Gnw4",
        "outputId": "2f747c29-82d3-4bba-9bbc-4a9d0ba0860e"
      },
      "outputs": [
        {
          "name": "stdout",
          "output_type": "stream",
          "text": [
            "+---------+--------+--------------------+------+--------+-----------+--------------------+---------------+\n",
            "|  titleId|ordering|               title|region|language|      types|          attributes|isOriginalTitle|\n",
            "+---------+--------+--------------------+------+--------+-----------+--------------------+---------------+\n",
            "|tt0000001|       1|          Карменсіта|    UA|      \\N|imdbDisplay|                  \\N|              0|\n",
            "|tt0000001|       2|          Carmencita|    DE|      \\N|         \\N|       literal title|              0|\n",
            "|tt0000001|       3|Carmencita - span...|    HU|      \\N|imdbDisplay|                  \\N|              0|\n",
            "|tt0000001|       4|          Καρμενσίτα|    GR|      \\N|imdbDisplay|                  \\N|              0|\n",
            "|tt0000001|       5|          Карменсита|    RU|      \\N|imdbDisplay|                  \\N|              0|\n",
            "|tt0000001|       6|          Carmencita|    US|      \\N|imdbDisplay|                  \\N|              0|\n",
            "|tt0000001|       7|          Carmencita|    \\N|      \\N|   original|                  \\N|              1|\n",
            "|tt0000001|       8|      カルメンチータ|    JP|      ja|imdbDisplay|                  \\N|              0|\n",
            "|tt0000002|       1|Le clown et ses c...|    \\N|      \\N|   original|                  \\N|              1|\n",
            "|tt0000002|       2|Le clown et ses c...|    FR|      \\N|imdbDisplay|                  \\N|              0|\n",
            "|tt0000002|       3|   A bohóc és kutyái|    HU|      \\N|imdbDisplay|                  \\N|              0|\n",
            "|tt0000002|       4|Der Clown und sei...|    DE|      \\N|         \\N|       literal title|              0|\n",
            "|tt0000002|       5|Clovnul si cainii...|    RO|      \\N|imdbDisplay|                  \\N|              0|\n",
            "|tt0000002|       6|  Клоун и его собаки|    RU|      \\N|imdbDisplay|                  \\N|              0|\n",
            "|tt0000002|       7|The Clown and His...|    US|      \\N|         \\N|literal English t...|              0|\n",
            "|tt0000002|       8|          道化師と犬|    JP|      ja|imdbDisplay|                  \\N|              0|\n",
            "|tt0000003|       1|    Sarmanul Pierrot|    RO|      \\N|imdbDisplay|                  \\N|              0|\n",
            "|tt0000003|       2|     Szegény Pierrot|    HU|      \\N|imdbDisplay|                  \\N|              0|\n",
            "|tt0000003|       3|        哀れなピエロ|    JP|      ja|imdbDisplay|                  \\N|              0|\n",
            "|tt0000003|       4|        Бідний П'єро|    UA|      \\N|imdbDisplay|                  \\N|              0|\n",
            "+---------+--------+--------------------+------+--------+-----------+--------------------+---------------+\n",
            "only showing top 20 rows\n",
            "\n"
          ]
        }
      ],
      "source": [
        "df.show()"
      ]
    },
    {
      "cell_type": "code",
      "execution_count": null,
      "metadata": {
        "colab": {
          "base_uri": "https://localhost:8080/"
        },
        "id": "Y9CJePDQGj_E",
        "outputId": "3e72c03d-38dc-448f-eaf1-359c7cfb277d"
      },
      "outputs": [
        {
          "name": "stdout",
          "output_type": "stream",
          "text": [
            "root\n",
            " |-- titleId: string (nullable = true)\n",
            " |-- ordering: string (nullable = true)\n",
            " |-- title: string (nullable = true)\n",
            " |-- region: string (nullable = true)\n",
            " |-- language: string (nullable = true)\n",
            " |-- types: string (nullable = true)\n",
            " |-- attributes: string (nullable = true)\n",
            " |-- isOriginalTitle: string (nullable = true)\n",
            "\n"
          ]
        }
      ],
      "source": [
        "df.printSchema()\n"
      ]
    },
    {
      "cell_type": "code",
      "execution_count": 6,
      "metadata": {
        "colab": {
          "base_uri": "https://localhost:8080/"
        },
        "id": "RmNdEIz0HXpG",
        "outputId": "0db84a11-8765-4d91-d495-4b01d131c9ec"
      },
      "outputs": [
        {
          "output_type": "stream",
          "name": "stdout",
          "text": [
            "+---------+--------+-------------------------+------+--------+-----------+---------------------+---------------+\n",
            "|titleId  |ordering|title                    |region|language|types      |attributes           |isOriginalTitle|\n",
            "+---------+--------+-------------------------+------+--------+-----------+---------------------+---------------+\n",
            "|tt0000001|1       |Карменсіта               |UA    |null    |imdbDisplay|null                 |0              |\n",
            "|tt0000001|2       |Carmencita               |DE    |null    |null       |literal title        |0              |\n",
            "|tt0000001|3       |Carmencita - spanyol tánc|HU    |null    |imdbDisplay|null                 |0              |\n",
            "|tt0000001|4       |Καρμενσίτα               |GR    |null    |imdbDisplay|null                 |0              |\n",
            "|tt0000001|5       |Карменсита               |RU    |null    |imdbDisplay|null                 |0              |\n",
            "|tt0000001|6       |Carmencita               |US    |null    |imdbDisplay|null                 |0              |\n",
            "|tt0000001|7       |Carmencita               |null  |null    |original   |null                 |1              |\n",
            "|tt0000001|8       |カルメンチータ           |JP    |ja      |imdbDisplay|null                 |0              |\n",
            "|tt0000002|1       |Le clown et ses chiens   |null  |null    |original   |null                 |1              |\n",
            "|tt0000002|2       |Le clown et ses chiens   |FR    |null    |imdbDisplay|null                 |0              |\n",
            "|tt0000002|3       |A bohóc és kutyái        |HU    |null    |imdbDisplay|null                 |0              |\n",
            "|tt0000002|4       |Der Clown und seine Hunde|DE    |null    |null       |literal title        |0              |\n",
            "|tt0000002|5       |Clovnul si cainii sai    |RO    |null    |imdbDisplay|null                 |0              |\n",
            "|tt0000002|6       |Клоун и его собаки       |RU    |null    |imdbDisplay|null                 |0              |\n",
            "|tt0000002|7       |The Clown and His Dogs   |US    |null    |null       |literal English title|0              |\n",
            "|tt0000002|8       |道化師と犬               |JP    |ja      |imdbDisplay|null                 |0              |\n",
            "|tt0000003|1       |Sarmanul Pierrot         |RO    |null    |imdbDisplay|null                 |0              |\n",
            "|tt0000003|2       |Szegény Pierrot          |HU    |null    |imdbDisplay|null                 |0              |\n",
            "|tt0000003|3       |哀れなピエロ             |JP    |ja      |imdbDisplay|null                 |0              |\n",
            "|tt0000003|4       |Бідний П'єро             |UA    |null    |imdbDisplay|null                 |0              |\n",
            "|tt0000003|5       |Бедный Пьеро             |RU    |null    |imdbDisplay|null                 |0              |\n",
            "|tt0000003|6       |Pauvre Pierrot           |null  |null    |original   |null                 |1              |\n",
            "|tt0000003|7       |Poor Pierrot             |GB    |null    |imdbDisplay|null                 |0              |\n",
            "|tt0000003|8       |Pauvre Pierrot           |FR    |null    |imdbDisplay|null                 |0              |\n",
            "|tt0000003|9       |Armer Pierrot            |DE    |null    |null       |literal title        |0              |\n",
            "|tt0000004|1       |Un bon bock              |null  |null    |original   |null                 |1              |\n",
            "|tt0000004|2       |Un bon bock              |FR    |null    |imdbDisplay|null                 |0              |\n",
            "|tt0000004|3       |Ein gutes Glas Bier      |DE    |null    |null       |literal title        |0              |\n",
            "|tt0000004|4       |Un ţap de bere           |RO    |null    |imdbDisplay|null                 |0              |\n",
            "|tt0000004|5       |Полная кружка пива       |RU    |null    |imdbDisplay|null                 |0              |\n",
            "+---------+--------+-------------------------+------+--------+-----------+---------------------+---------------+\n",
            "only showing top 30 rows\n",
            "\n"
          ]
        }
      ],
      "source": [
        "title_akas_schema = t.StructType([t.StructField('titleId', t.StringType(), True),\n",
        "                                  t.StructField('ordering', t.IntegerType(), True),\n",
        "                                  t.StructField('title', t.StringType(), True),\n",
        "                                  t.StructField('region', t.StringType(), True),\n",
        "                                  t.StructField('language', t.StringType(), True),\n",
        "                                  t.StructField('types', t.StringType(), True),\n",
        "                                  t.StructField('attributes',  t.StringType(), True),\n",
        "                                  t.StructField('isOriginalTitle', t.StringType(), True)])\n",
        "\n",
        "title_akas_df = spark.read.csv(\"/content/drive/MyDrive/Colab Notebooks/data/title.akas.tsv.gz\", sep=r'\\t', header=True, nullValue='\\\\N', schema=title_akas_schema)\n",
        "title_akas_df.show(30, truncate=False)"
      ]
    },
    {
      "cell_type": "code",
      "execution_count": null,
      "metadata": {
        "colab": {
          "base_uri": "https://localhost:8080/"
        },
        "id": "Ptl9yi9cRbx3",
        "outputId": "5090c0d3-5274-4941-dccb-2d2f8e66abd1"
      },
      "outputs": [
        {
          "name": "stdout",
          "output_type": "stream",
          "text": [
            "root\n",
            " |-- tconst: string (nullable = true)\n",
            " |-- titleType: string (nullable = true)\n",
            " |-- primaryTitle: string (nullable = true)\n",
            " |-- originalTitle: string (nullable = true)\n",
            " |-- isAdult: string (nullable = true)\n",
            " |-- startYear: string (nullable = true)\n",
            " |-- endYear: string (nullable = true)\n",
            " |-- runtimeMinutes: string (nullable = true)\n",
            " |-- genres: string (nullable = true)\n",
            "\n"
          ]
        }
      ],
      "source": [
        "df = spark.read.csv(\"/content/drive/MyDrive/Colab Notebooks/data/title.basics.tsv.gz\", sep=r'\\t', header=True, nullValue='\\\\N')\n",
        "df.printSchema()"
      ]
    },
    {
      "cell_type": "code",
      "execution_count": 30,
      "metadata": {
        "colab": {
          "base_uri": "https://localhost:8080/"
        },
        "id": "oT_A2ALpUJW_",
        "outputId": "7f7710f6-f371-414c-8f7d-2249c372bbcd"
      },
      "outputs": [
        {
          "output_type": "stream",
          "name": "stdout",
          "text": [
            "+---------+---------+--------------------+--------------------+-------+----------+-------+--------------+--------------------+\n",
            "|   tconst|titleType|        primaryTitle|       originalTitle|isAdult| startYear|endYear|runtimeMinutes|              genres|\n",
            "+---------+---------+--------------------+--------------------+-------+----------+-------+--------------+--------------------+\n",
            "|tt0000001|    short|          Carmencita|          Carmencita|      0|1894-01-01|   null|             1|   Documentary,Short|\n",
            "|tt0000002|    short|Le clown et ses c...|Le clown et ses c...|      0|1892-01-01|   null|             5|     Animation,Short|\n",
            "|tt0000003|    short|      Pauvre Pierrot|      Pauvre Pierrot|      0|1892-01-01|   null|             4|Animation,Comedy,...|\n",
            "|tt0000004|    short|         Un bon bock|         Un bon bock|      0|1892-01-01|   null|            12|     Animation,Short|\n",
            "|tt0000005|    short|    Blacksmith Scene|    Blacksmith Scene|      0|1893-01-01|   null|             1|        Comedy,Short|\n",
            "|tt0000006|    short|   Chinese Opium Den|   Chinese Opium Den|      0|1894-01-01|   null|             1|               Short|\n",
            "|tt0000007|    short|Corbett and Court...|Corbett and Court...|      0|1894-01-01|   null|             1|         Short,Sport|\n",
            "|tt0000008|    short|Edison Kinetoscop...|Edison Kinetoscop...|      0|1894-01-01|   null|             1|   Documentary,Short|\n",
            "|tt0000009|    movie|          Miss Jerry|          Miss Jerry|      0|1894-01-01|   null|            45|             Romance|\n",
            "|tt0000010|    short| Leaving the Factory|La sortie de l'us...|      0|1895-01-01|   null|             1|   Documentary,Short|\n",
            "|tt0000011|    short|Akrobatisches Pot...|Akrobatisches Pot...|      0|1895-01-01|   null|             1|   Documentary,Short|\n",
            "|tt0000012|    short|The Arrival of a ...|L'arrivée d'un tr...|      0|1896-01-01|   null|             1|   Documentary,Short|\n",
            "|tt0000013|    short|The Photographica...|Le débarquement d...|      0|1895-01-01|   null|             1|   Documentary,Short|\n",
            "|tt0000014|    short| The Waterer Watered|   L'arroseur arrosé|      0|1895-01-01|   null|             1|        Comedy,Short|\n",
            "|tt0000015|    short| Autour d'une cabine| Autour d'une cabine|      0|1894-01-01|   null|             2|     Animation,Short|\n",
            "|tt0000016|    short|Boat Leaving the ...|Barque sortant du...|      0|1895-01-01|   null|             1|   Documentary,Short|\n",
            "|tt0000017|    short|Italienischer Bau...|Italienischer Bau...|      0|1895-01-01|   null|             1|   Documentary,Short|\n",
            "|tt0000018|    short|Das boxende Känguruh|Das boxende Känguruh|      0|1895-01-01|   null|             1|               Short|\n",
            "|tt0000019|    short|    The Clown Barber|    The Clown Barber|      0|1898-01-01|   null|          null|        Comedy,Short|\n",
            "|tt0000020|    short|      The Derby 1895|      The Derby 1895|      0|1895-01-01|   null|             1|Documentary,Short...|\n",
            "+---------+---------+--------------------+--------------------+-------+----------+-------+--------------+--------------------+\n",
            "only showing top 20 rows\n",
            "\n"
          ]
        }
      ],
      "source": [
        "title_basics_schema =  t.StructType([t.StructField('tconst', t.StringType(), True),\n",
        "                                  t.StructField('titleType', t.StringType(), True),\n",
        "                                  t.StructField('primaryTitle', t.StringType(), True),\n",
        "                                  t.StructField('originalTitle', t.StringType(), True),\n",
        "                                  t.StructField('isAdult', t.IntegerType(), True),\n",
        "                                  t.StructField('startYear', t.DateType(), True),\n",
        "                                  t.StructField('endYear',  t.DateType(), True),\n",
        "                                  t.StructField('runtimeMinutes', t.IntegerType(), True),\n",
        "                                  t.StructField('genres', t.StringType(), True)])\n",
        "\n",
        "title_basics_df = spark.read.csv(\"/content/drive/MyDrive/Colab Notebooks/data/title.basics.tsv.gz\", sep=r'\\t', header=True, nullValue='\\\\N', dateFormat=\"MM/dd/yyyy\", schema=title_basics_schema)\n",
        "title_basics_df.show()"
      ]
    },
    {
      "cell_type": "code",
      "execution_count": null,
      "metadata": {
        "colab": {
          "base_uri": "https://localhost:8080/"
        },
        "id": "4Y9wVl6qYiJT",
        "outputId": "9edb2e23-3aa4-4afe-bed9-acfa920ba63f"
      },
      "outputs": [
        {
          "name": "stdout",
          "output_type": "stream",
          "text": [
            "root\n",
            " |-- nconst: string (nullable = true)\n",
            " |-- primaryName: string (nullable = true)\n",
            " |-- birthYear: string (nullable = true)\n",
            " |-- deathYear: string (nullable = true)\n",
            " |-- primaryProfession: string (nullable = true)\n",
            " |-- knownForTitles: string (nullable = true)\n",
            "\n"
          ]
        }
      ],
      "source": [
        "df = spark.read.csv(\"/content/drive/MyDrive/Colab Notebooks/data/name.basics.tsv.gz\", sep=r'\\t', header=True, nullValue='\\\\N')\n",
        "df.printSchema()"
      ]
    },
    {
      "cell_type": "code",
      "execution_count": 26,
      "metadata": {
        "colab": {
          "base_uri": "https://localhost:8080/"
        },
        "id": "lt6JIop8akF0",
        "outputId": "4cb2a95e-19dc-4aeb-f644-b145965d6b95"
      },
      "outputs": [
        {
          "output_type": "stream",
          "name": "stdout",
          "text": [
            "+---------+-------------------+----------+----------+--------------------+--------------------+\n",
            "|   nconst|        primaryName| birthYear| deathYear|   primaryProfession|      knownForTitles|\n",
            "+---------+-------------------+----------+----------+--------------------+--------------------+\n",
            "|nm0000001|       Fred Astaire|1899-01-01|1987-01-01|soundtrack,actor,...|tt0072308,tt00504...|\n",
            "|nm0000002|      Lauren Bacall|1924-01-01|2014-01-01|  actress,soundtrack|tt0037382,tt00383...|\n",
            "|nm0000003|    Brigitte Bardot|1934-01-01|      null|actress,soundtrac...|tt0054452,tt00491...|\n",
            "|nm0000004|       John Belushi|1949-01-01|1982-01-01|actor,soundtrack,...|tt0072562,tt00787...|\n",
            "|nm0000005|     Ingmar Bergman|1918-01-01|2007-01-01|writer,director,a...|tt0050986,tt00509...|\n",
            "|nm0000006|     Ingrid Bergman|1915-01-01|1982-01-01|actress,soundtrac...|tt0038109,tt00387...|\n",
            "|nm0000007|    Humphrey Bogart|1899-01-01|1957-01-01|actor,soundtrack,...|tt0034583,tt00432...|\n",
            "|nm0000008|      Marlon Brando|1924-01-01|2004-01-01|actor,soundtrack,...|tt0047296,tt00686...|\n",
            "|nm0000009|     Richard Burton|1925-01-01|1984-01-01|actor,soundtrack,...|tt0057877,tt00878...|\n",
            "|nm0000010|       James Cagney|1899-01-01|1986-01-01|actor,soundtrack,...|tt0031867,tt00355...|\n",
            "|nm0000011|        Gary Cooper|1901-01-01|1961-01-01|actor,soundtrack,...|tt0044706,tt00279...|\n",
            "|nm0000012|        Bette Davis|1908-01-01|1989-01-01|actress,soundtrac...|tt0042192,tt00351...|\n",
            "|nm0000013|          Doris Day|1922-01-01|2019-01-01|soundtrack,actres...|tt0053172,tt00455...|\n",
            "|nm0000014|Olivia de Havilland|1916-01-01|2020-01-01|  actress,soundtrack|tt0040806,tt00414...|\n",
            "|nm0000015|         James Dean|1931-01-01|1955-01-01| actor,miscellaneous|tt0049261,tt00480...|\n",
            "|nm0000016|    Georges Delerue|1925-01-01|1992-01-01|composer,soundtra...|tt0096320,tt00917...|\n",
            "|nm0000017|   Marlene Dietrich|1901-01-01|1992-01-01|soundtrack,actres...|tt0021156,tt00512...|\n",
            "|nm0000018|       Kirk Douglas|1916-01-01|2020-01-01|actor,producer,so...|tt0043338,tt00543...|\n",
            "|nm0000019|   Federico Fellini|1920-01-01|1993-01-01|writer,director,a...|tt0056801,tt00711...|\n",
            "|nm0000020|        Henry Fonda|1905-01-01|1982-01-01|actor,producer,so...|tt0082846,tt00500...|\n",
            "+---------+-------------------+----------+----------+--------------------+--------------------+\n",
            "only showing top 20 rows\n",
            "\n"
          ]
        }
      ],
      "source": [
        "name_basics_schema =  t.StructType([t.StructField('nconst', t.StringType(), True),\n",
        "                                  t.StructField('primaryName', t.StringType(), True),\n",
        "                                  t.StructField('birthYear', t.DateType(), True),\n",
        "                                  t.StructField('deathYear', t.DateType(), True),\n",
        "                                  t.StructField('primaryProfession', t.StringType(), True),\n",
        "                                  t.StructField('knownForTitles',  t.StringType(), True)])\n",
        "\n",
        "\n",
        "name_basics_df = spark.read.csv(\"/content/drive/MyDrive/Colab Notebooks/data/name.basics.tsv.gz\", sep=r'\\t', header=True, nullValue='\\\\N', dateFormat=\"MM/dd/yyyy\", schema=name_basics_schema)\n",
        "name_basics_df.show()"
      ]
    },
    {
      "cell_type": "code",
      "execution_count": null,
      "metadata": {
        "colab": {
          "base_uri": "https://localhost:8080/"
        },
        "id": "aRVxPb4Acf1a",
        "outputId": "99113fcf-530f-41bd-f873-ef660dfc88fb"
      },
      "outputs": [
        {
          "name": "stdout",
          "output_type": "stream",
          "text": [
            "+---------+-------------------+---------+\n",
            "|   tconst|          directors| writers |\n",
            "+---------+-------------------+---------+\n",
            "|tt0000001|          nm0005690|     null|\n",
            "|tt0000002|          nm0721526|     null|\n",
            "|tt0000003|          nm0721526|     null|\n",
            "|tt0000004|          nm0721526|     null|\n",
            "|tt0000005|          nm0005690|     null|\n",
            "|tt0000006|          nm0005690|     null|\n",
            "|tt0000007|nm0005690,nm0374658|     null|\n",
            "|tt0000008|          nm0005690|     null|\n",
            "|tt0000009|          nm0085156|nm0085156|\n",
            "|tt0000010|          nm0525910|     null|\n",
            "|tt0000011|          nm0804434|     null|\n",
            "|tt0000012|nm0525908,nm0525910|     null|\n",
            "|tt0000013|          nm0525910|     null|\n",
            "|tt0000014|          nm0525910|     null|\n",
            "|tt0000015|          nm0721526|     null|\n",
            "|tt0000016|          nm0525910|     null|\n",
            "|tt0000017|nm1587194,nm0804434|     null|\n",
            "|tt0000018|          nm0804434|     null|\n",
            "|tt0000019|          nm0932055|     null|\n",
            "|tt0000020|          nm0010291|     null|\n",
            "+---------+-------------------+---------+\n",
            "only showing top 20 rows\n",
            "\n"
          ]
        }
      ],
      "source": [
        "title_crew_schema =  t.StructType([t.StructField('tconst', t.StringType(), True),\n",
        "                                  t.StructField('directors', t.StringType(), True),\n",
        "                                  t.StructField('writers ', t.StringType(), True)])\n",
        "\n",
        "title_crew_df = spark.read.csv(\"/content/drive/MyDrive/Colab Notebooks/data/title.crew.tsv.gz\", sep=r'\\t', header=True, nullValue='\\\\N', schema=title_crew_schema)\n",
        "title_crew_df.show()"
      ]
    },
    {
      "cell_type": "code",
      "execution_count": null,
      "metadata": {
        "colab": {
          "base_uri": "https://localhost:8080/"
        },
        "id": "wH_03x5Od0iR",
        "outputId": "8da5a5ae-578c-4d7b-fb37-be7b72460ee9"
      },
      "outputs": [
        {
          "name": "stdout",
          "output_type": "stream",
          "text": [
            "+---------+------------+------------+-------------+\n",
            "|   tconst|parentTconst|seasonNumber|episodeNumber|\n",
            "+---------+------------+------------+-------------+\n",
            "|tt0041951|   tt0041038|           1|            9|\n",
            "|tt0042816|   tt0989125|           1|           17|\n",
            "|tt0042889|   tt0989125|        null|         null|\n",
            "|tt0043426|   tt0040051|           3|           42|\n",
            "|tt0043631|   tt0989125|           2|           16|\n",
            "|tt0043693|   tt0989125|           2|            8|\n",
            "|tt0043710|   tt0989125|           3|            3|\n",
            "|tt0044093|   tt0959862|           1|            6|\n",
            "|tt0044668|   tt0044243|           2|           16|\n",
            "|tt0044901|   tt0989125|           3|           46|\n",
            "|tt0045519|   tt0989125|           4|           11|\n",
            "|tt0045960|   tt0044284|           2|            3|\n",
            "|tt0046135|   tt0989125|           4|            5|\n",
            "|tt0046150|   tt0341798|        null|         null|\n",
            "|tt0046855|   tt0046643|           1|            4|\n",
            "|tt0046864|   tt0989125|           5|           20|\n",
            "|tt0047810|   tt0914702|           3|           36|\n",
            "|tt0047852|   tt0047745|           1|           15|\n",
            "|tt0047858|   tt0046637|           2|            9|\n",
            "|tt0047961|   tt0989125|           6|            5|\n",
            "+---------+------------+------------+-------------+\n",
            "only showing top 20 rows\n",
            "\n"
          ]
        }
      ],
      "source": [
        "title_episode_schema =  t.StructType([t.StructField('tconst', t.StringType(), True),\n",
        "                                  t.StructField('parentTconst', t.StringType(), True),\n",
        "                                  t.StructField('seasonNumber', t.IntegerType(), True),\n",
        "                                  t.StructField('episodeNumber', t.IntegerType(), True)])\n",
        "\n",
        "title_episode_df = spark.read.csv(\"/content/drive/MyDrive/Colab Notebooks/data/title.episode.tsv.gz\", sep=r'\\t', header=True, nullValue='\\\\N', schema=title_episode_schema)\n",
        "title_episode_df.show()"
      ]
    },
    {
      "cell_type": "code",
      "execution_count": null,
      "metadata": {
        "colab": {
          "base_uri": "https://localhost:8080/"
        },
        "id": "ZlmefmPbeZCR",
        "outputId": "5544ab35-b625-452a-f65f-8b547b9b38d7"
      },
      "outputs": [
        {
          "name": "stdout",
          "output_type": "stream",
          "text": [
            "+---------+--------+---------+---------------+--------------------+--------------+\n",
            "|   tconst|ordering|   nconst|       category|                 job|    characters|\n",
            "+---------+--------+---------+---------------+--------------------+--------------+\n",
            "|tt0000001|       1|nm1588970|           self|                null|      [\"Self\"]|\n",
            "|tt0000001|       2|nm0005690|       director|                null|          null|\n",
            "|tt0000001|       3|nm0374658|cinematographer|director of photo...|          null|\n",
            "|tt0000002|       1|nm0721526|       director|                null|          null|\n",
            "|tt0000002|       2|nm1335271|       composer|                null|          null|\n",
            "|tt0000003|       1|nm0721526|       director|                null|          null|\n",
            "|tt0000003|       2|nm1770680|       producer|            producer|          null|\n",
            "|tt0000003|       3|nm1335271|       composer|                null|          null|\n",
            "|tt0000003|       4|nm5442200|         editor|                null|          null|\n",
            "|tt0000004|       1|nm0721526|       director|                null|          null|\n",
            "|tt0000004|       2|nm1335271|       composer|                null|          null|\n",
            "|tt0000005|       1|nm0443482|          actor|                null|[\"Blacksmith\"]|\n",
            "|tt0000005|       2|nm0653042|          actor|                null| [\"Assistant\"]|\n",
            "|tt0000005|       3|nm0005690|       director|                null|          null|\n",
            "|tt0000005|       4|nm0249379|       producer|            producer|          null|\n",
            "|tt0000006|       1|nm0005690|       director|                null|          null|\n",
            "|tt0000007|       1|nm0179163|          actor|                null|          null|\n",
            "|tt0000007|       2|nm0183947|          actor|                null|          null|\n",
            "|tt0000007|       3|nm0005690|       director|                null|          null|\n",
            "|tt0000007|       4|nm0374658|       director|                null|          null|\n",
            "+---------+--------+---------+---------------+--------------------+--------------+\n",
            "only showing top 20 rows\n",
            "\n"
          ]
        }
      ],
      "source": [
        "title_principals_schema =  t.StructType([t.StructField('tconst', t.StringType(), True),\n",
        "                                  t.StructField('ordering', t.IntegerType(), True),\n",
        "                                  t.StructField('nconst', t.StringType(), True),\n",
        "                                  t.StructField('category', t.StringType(), True),\n",
        "                                  t.StructField('job', t.StringType(), True),\n",
        "                                  t.StructField('characters', t.StringType(), True)])\n",
        "\n",
        "title_principals_df = spark.read.csv(\"/content/drive/MyDrive/Colab Notebooks/data/title.principals.tsv.gz\", sep=r'\\t', header=True, nullValue='\\\\N', schema=title_principals_schema)\n",
        "title_principals_df.show()"
      ]
    },
    {
      "cell_type": "code",
      "execution_count": null,
      "metadata": {
        "colab": {
          "base_uri": "https://localhost:8080/"
        },
        "id": "hQpQ5WKWfF0N",
        "outputId": "6d307c93-6a70-4039-edfb-801c8bd4dfa2"
      },
      "outputs": [
        {
          "name": "stdout",
          "output_type": "stream",
          "text": [
            "+---------+--------------+---------+\n",
            "|   tconst|averageRating |numVotes |\n",
            "+---------+--------------+---------+\n",
            "|tt0000001|           5.7|     1925|\n",
            "|tt0000002|           5.8|      261|\n",
            "|tt0000003|           6.5|     1741|\n",
            "|tt0000004|           5.6|      176|\n",
            "|tt0000005|           6.2|     2554|\n",
            "|tt0000006|           5.1|      175|\n",
            "|tt0000007|           5.4|      797|\n",
            "|tt0000008|           5.4|     2069|\n",
            "|tt0000009|           5.3|      200|\n",
            "|tt0000010|           6.9|     6992|\n",
            "|tt0000011|           5.3|      357|\n",
            "|tt0000012|           7.4|    12000|\n",
            "|tt0000013|           5.7|     1850|\n",
            "|tt0000014|           7.1|     5381|\n",
            "|tt0000015|           6.2|     1035|\n",
            "|tt0000016|           5.9|     1460|\n",
            "|tt0000017|           4.6|      318|\n",
            "|tt0000018|           5.3|      583|\n",
            "|tt0000019|           5.1|       31|\n",
            "|tt0000020|           4.8|      351|\n",
            "+---------+--------------+---------+\n",
            "only showing top 20 rows\n",
            "\n"
          ]
        }
      ],
      "source": [
        "title_ratings_schema =  t.StructType([t.StructField('tconst', t.StringType(), True),\n",
        "                                  t.StructField('averageRating ', t.FloatType(), True),\n",
        "                                  t.StructField('numVotes ', t.IntegerType(), True)])\n",
        "\n",
        "title_ratings_df = spark.read.csv(\"/content/drive/MyDrive/Colab Notebooks/data/title.ratings.tsv.gz\", sep=r'\\t', header=True, nullValue='\\\\N', schema=title_ratings_schema)\n",
        "title_ratings_df.show()"
      ]
    },
    {
      "cell_type": "code",
      "execution_count": 35,
      "metadata": {
        "colab": {
          "base_uri": "https://localhost:8080/"
        },
        "id": "UtIDoScJfgT6",
        "outputId": "d55df34d-7596-4a15-e51e-42394c92df93"
      },
      "outputs": [
        {
          "output_type": "stream",
          "name": "stdout",
          "text": [
            "+--------------------+\n",
            "|               title|\n",
            "+--------------------+\n",
            "|          Карменсіта|\n",
            "|        Бідний П'єро|\n",
            "|    Ковальська сцена|\n",
            "|   Чхання Фреда Отта|\n",
            "|Вихід робітників ...|\n",
            "|Прибуття потяга н...|\n",
            "|Прибуття делегаті...|\n",
            "| Политий поливальник|\n",
            "|     Навколо кабінки|\n",
            "|              Ковалі|\n",
            "|     Морське купання|\n",
            "|      Партія в карти|\n",
            "|Площа Кордельє в ...|\n",
            "|Виловлювання черв...|\n",
            "|  Сніданок немовляти|\n",
            "|Стрибок через бре...|\n",
            "|       Вольтижування|\n",
            "|        Гра в сніжки|\n",
            "|    Зруйнування муру|\n",
            "|       Замок диявола|\n",
            "+--------------------+\n",
            "only showing top 20 rows\n",
            "\n"
          ]
        }
      ],
      "source": [
        "def showAvailableInUA():\n",
        "  titles_in_ua_df = title_akas_df.select(f.column('title')).where(f.col('region') == 'UA')\n",
        "  titles_in_ua_df.show()\n",
        "  path_to_save = '/content/drive/MyDrive/Colab Notebooks/output/titles_available_in_ukraine'\n",
        "  titles_in_ua_df.write.options(header='True', delimiter=',').mode(\"overwrite\").csv(path_to_save)\n",
        "showAvailableInUA()\n",
        "  "
      ]
    },
    {
      "cell_type": "code",
      "source": [
        "def getPeopleBornIn19Century():\n",
        "  people_born_df = name_basics_df.select(f.column('primaryName').alias('name_surname')).where(f.year(name_basics_df.birthYear) >= 1800).where(f.year(name_basics_df.birthYear) < 1900)\n",
        "  path_to_save = '/content/drive/MyDrive/Colab Notebooks/output/people_born_in_19_century'\n",
        "  people_born_df.write.options(header='True', delimiter=',').mode(\"overwrite\").csv(path_to_save)\n",
        "\n",
        "getPeopleBornIn19Century()"
      ],
      "metadata": {
        "id": "ZzIGGVpsXJ4E"
      },
      "execution_count": 29,
      "outputs": []
    },
    {
      "cell_type": "code",
      "source": [
        "def getMoviesLastTwoHours():\n",
        "  movies_df = title_basics_df.select(f.column('originalTitle').alias('title')).where(f.col('runtimeMinutes') > 120).where(f.col('titleType') == 'movie')\n",
        "  movies_df.show()\n",
        "  path_to_save = '/content/drive/MyDrive/Colab Notebooks/output/get_movies_last_two_hours'\n",
        "  movies_df.write.options(header='True', delimiter=',').mode(\"overwrite\").csv(path_to_save)\n",
        "\n",
        "getMoviesLastTwoHours()"
      ],
      "metadata": {
        "colab": {
          "base_uri": "https://localhost:8080/"
        },
        "id": "RIKuOyydcHmo",
        "outputId": "bc5b4807-8186-4d9a-8b4c-d68a51002cd6"
      },
      "execution_count": 34,
      "outputs": [
        {
          "output_type": "stream",
          "name": "stdout",
          "text": [
            "+--------------------+\n",
            "|               title|\n",
            "+--------------------+\n",
            "|What Happened to ...|\n",
            "|The Adventures of...|\n",
            "|            Atlantis|\n",
            "|            Germinal|\n",
            "|Les misérables - ...|\n",
            "|The Active Life o...|\n",
            "|The Beloved Adven...|\n",
            "|             Cabiria|\n",
            "|   L'enfant de Paris|\n",
            "|The Exploits of E...|\n",
            "|The Hazards of Helen|\n",
            "|Lucille Love: The...|\n",
            "|      The Master Key|\n",
            "|The Perils of Pau...|\n",
            "|The Port of Missi...|\n",
            "|El signo de la tribu|\n",
            "|  The Trey o' Hearts|\n",
            "|The Birth of a Na...|\n",
            "|       The Black Box|\n",
            "|     The Broken Coin|\n",
            "+--------------------+\n",
            "only showing top 20 rows\n",
            "\n"
          ]
        }
      ]
    },
    {
      "cell_type": "code",
      "source": [
        "def getNamesFilmsCharacter():\n",
        "  names_df = name_basics_df.select(\"primaryName\").where(name_basics_df.primaryProfession.contains('actor') | name_basics_df.primaryProfession.contains('actress'))\n",
        "  names_df.show()\n",
        "\n",
        "getNamesFilmsCharacter()"
      ],
      "metadata": {
        "colab": {
          "base_uri": "https://localhost:8080/"
        },
        "id": "7XWmI1pveyHd",
        "outputId": "487693ba-b755-4956-9702-b7da024b0964"
      },
      "execution_count": 36,
      "outputs": [
        {
          "output_type": "stream",
          "name": "stdout",
          "text": [
            "+-------------------+\n",
            "|        primaryName|\n",
            "+-------------------+\n",
            "|       Fred Astaire|\n",
            "|      Lauren Bacall|\n",
            "|    Brigitte Bardot|\n",
            "|       John Belushi|\n",
            "|     Ingmar Bergman|\n",
            "|     Ingrid Bergman|\n",
            "|    Humphrey Bogart|\n",
            "|      Marlon Brando|\n",
            "|     Richard Burton|\n",
            "|       James Cagney|\n",
            "|        Gary Cooper|\n",
            "|        Bette Davis|\n",
            "|          Doris Day|\n",
            "|Olivia de Havilland|\n",
            "|         James Dean|\n",
            "|   Marlene Dietrich|\n",
            "|       Kirk Douglas|\n",
            "|   Federico Fellini|\n",
            "|        Henry Fonda|\n",
            "|      Joan Fontaine|\n",
            "+-------------------+\n",
            "only showing top 20 rows\n",
            "\n"
          ]
        }
      ]
    }
  ],
  "metadata": {
    "colab": {
      "provenance": [],
      "mount_file_id": "127nO3hjHGO4Dl_sBwNZo24wTiVyEosIQ",
      "authorship_tag": "ABX9TyPTiAxvaW9WqNY8P2efjG8k",
      "include_colab_link": true
    },
    "kernelspec": {
      "display_name": "Python 3",
      "name": "python3"
    },
    "language_info": {
      "name": "python"
    }
  },
  "nbformat": 4,
  "nbformat_minor": 0
}